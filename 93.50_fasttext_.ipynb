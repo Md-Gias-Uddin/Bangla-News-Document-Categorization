{
  "nbformat": 4,
  "nbformat_minor": 0,
  "metadata": {
    "colab": {
      "provenance": [],
      "collapsed_sections": []
    },
    "kernelspec": {
      "name": "python3",
      "display_name": "Python 3"
    },
    "language_info": {
      "name": "python"
    }
  },
  "cells": [
    {
      "cell_type": "code",
      "metadata": {
        "id": "JcUziCCEKFI0",
        "colab": {
          "base_uri": "https://localhost:8080/"
        },
        "outputId": "326ac396-7900-4e68-ac73-ace048a435d4"
      },
      "source": [
        "pip install git+https://github.com/facebookresearch/fastText.git@b64e359d5485dda4b4b5074494155d18e25c8d13 --quiet"
      ],
      "execution_count": null,
      "outputs": [
        {
          "output_type": "stream",
          "text": [
            "  Building wheel for fasttext (setup.py) ... \u001b[?25l\u001b[?25hdone\n"
          ],
          "name": "stdout"
        }
      ]
    },
    {
      "cell_type": "code",
      "metadata": {
        "id": "B5LNX4JRLjeY"
      },
      "source": [
        "train_file = '/content/drive/MyDrive/dataset fAST/train_news.txt'\n",
        "\n",
        "test_file = '/content/drive/MyDrive/dataset fAST/test_news.txt'"
      ],
      "execution_count": null,
      "outputs": []
    },
    {
      "cell_type": "code",
      "metadata": {
        "id": "wum_tcCLxQQc"
      },
      "source": [
        "train_file = '/content/drive/MyDrive/fdata/ftrain.txt'\n",
        "\n",
        "test_file = '/content/drive/MyDrive/fdata/ftest.txt'"
      ],
      "execution_count": null,
      "outputs": []
    },
    {
      "cell_type": "code",
      "metadata": {
        "id": "si_dhYTZLsmU"
      },
      "source": [
        "import fasttext\n",
        "# lr = learning rate\n",
        "# lrUpdateRate similar to batch size\n",
        "fasttext_params = {\n",
        "    'input': train_file,\n",
        "    'lr': 0.5,\n",
        "    'lrUpdateRate': 100,\n",
        "    'thread': 8,\n",
        "    'epoch': 25,\n",
        "    'wordNgrams': 2,\n",
        "    'dim': 50,\n",
        "    'loss': 'ova'\n",
        "    #-lr 0.5 -epoch 25 -wordNgrams 2 -bucket 200000 -dim 50 -loss one-vs-all\n",
        "}\n",
        "model = fasttext.train_supervised(**fasttext_params)"
      ],
      "execution_count": null,
      "outputs": []
    },
    {
      "cell_type": "code",
      "metadata": {
        "colab": {
          "base_uri": "https://localhost:8080/"
        },
        "id": "1f-avZIEMfBQ",
        "outputId": "08b416df-050d-41dd-b6f9-3da35e33b544"
      },
      "source": [
        "print('vocab size: ', len(model.words))\n",
        "print('label size: ', len(model.labels))\n",
        "print('example vocab: ', model.words[:15])\n",
        "print('example label: ', model.labels[:11])"
      ],
      "execution_count": null,
      "outputs": [
        {
          "output_type": "stream",
          "text": [
            "vocab size:  264477\n",
            "label size:  12\n",
            "example vocab:  ['ও', 'করে', 'না', 'এ', 'থেকে', 'করা', 'এই', 'হবে', 'তিনি', 'বলেন', 'জন্য', 'একটি', 'এবং', '</s>', 'এক']\n",
            "example label:  ['__label__education', '__label__international', '__label__opinion', '__label__crime', '__label__accident', '__label__economics', '__label__environment', '__label__sports', '__label__politics', '__label__art', '__label__science_tech']\n"
          ],
          "name": "stdout"
        }
      ]
    },
    {
      "cell_type": "code",
      "metadata": {
        "id": "peBn-C9aM0XD"
      },
      "source": [
        "def print_results(model, input_path, k):\n",
        "    num_records, precision_at_k, recall_at_k = model.test(input_path)\n",
        "    f1_at_k = 2 * (precision_at_k * recall_at_k) / (precision_at_k + recall_at_k)\n",
        "\n",
        "    print(\"records\\t{}\".format(num_records))\n",
        "    print(\"P@{}\\t{:.5f}\".format(1, precision_at_k))\n",
        "    print(\"R@{}\\t{:.5f}\".format(1, recall_at_k))\n",
        "    print(\"F1@{}\\t{:.5f}\".format(1, f1_at_k))\n",
        "    print()\n",
        "\n"
      ],
      "execution_count": null,
      "outputs": []
    },
    {
      "cell_type": "code",
      "metadata": {
        "colab": {
          "base_uri": "https://localhost:8080/"
        },
        "id": "lTZcYidENGPK",
        "outputId": "e2073168-5ab9-4264-a91e-ec0a7d8d97f9"
      },
      "source": [
        "    print('train metrics:')\n",
        "    print_results(model, train_file, 1)\n",
        "\n",
        "    print('test metrics:')\n",
        "    print_results(model, test_file, 1)"
      ],
      "execution_count": null,
      "outputs": [
        {
          "output_type": "stream",
          "text": [
            "train metrics:\n",
            "records\t23040\n",
            "P@1\t0.99874\n",
            "R@1\t0.99874\n",
            "F1@1\t0.99874\n",
            "\n",
            "test metrics:\n",
            "records\t5760\n",
            "P@1\t0.93507\n",
            "R@1\t0.93507\n",
            "F1@1\t0.93507\n",
            "\n"
          ],
          "name": "stdout"
        }
      ]
    },
    {
      "cell_type": "code",
      "metadata": {
        "colab": {
          "base_uri": "https://localhost:8080/"
        },
        "id": "nuRDr6R6e7JH",
        "outputId": "1b152229-7d36-4b7b-d534-6dda4c6d7187"
      },
      "source": [
        "print(model.test_label(test_file))"
      ],
      "execution_count": null,
      "outputs": [
        {
          "output_type": "stream",
          "text": [
            "{'__label__art': {'precision': 0.8943089430894309, 'recall': 0.88, 'f1score': 0.8870967741935484}, '__label__politics': {'precision': 0.9354838709677419, 'recall': 0.9317269076305221, 'f1score': 0.9336016096579477}, '__label__sports': {'precision': 0.9570552147239264, 'recall': 0.9629629629629629, 'f1score': 0.96}, '__label__entertainment': {'precision': 0.9449901768172888, 'recall': 0.9449901768172888, 'f1score': 0.9449901768172888}, '__label__environment': {'precision': 0.9235537190082644, 'recall': 0.9331941544885177, 'f1score': 0.9283489096573209}, '__label__crime': {'precision': 0.9028077753779697, 'recall': 0.9028077753779697, 'f1score': 0.9028077753779697}, '__label__education': {'precision': 0.9752808988764045, 'recall': 0.9559471365638766, 'f1score': 0.9655172413793104}, '__label__opinion': {'precision': 0.9173553719008265, 'recall': 0.9631236442516269, 'f1score': 0.9396825396825397}, '__label__science_tech': {'precision': 0.9438877755511023, 'recall': 0.9326732673267327, 'f1score': 0.9382470119521913}, '__label__international': {'precision': 0.9518599562363238, 'recall': 0.9477124183006536, 'f1score': 0.9497816593886463}, '__label__accident': {'precision': 0.9250535331905781, 'recall': 0.9152542372881356, 'f1score': 0.9201277955271565}, '__label__economics': {'precision': 0.9515789473684211, 'recall': 0.9535864978902954, 'f1score': 0.9525816649104321}}\n"
          ],
          "name": "stdout"
        }
      ]
    },
    {
      "cell_type": "code",
      "metadata": {
        "colab": {
          "base_uri": "https://localhost:8080/"
        },
        "id": "s_6pqNoALVcT",
        "outputId": "a6628757-6c4f-440e-ee51-876e1f30a81b"
      },
      "source": [
        "print('Done')"
      ],
      "execution_count": null,
      "outputs": [
        {
          "output_type": "stream",
          "text": [
            "Done\n"
          ],
          "name": "stdout"
        }
      ]
    }
  ]
}