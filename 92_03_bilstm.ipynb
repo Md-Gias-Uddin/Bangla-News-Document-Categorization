{
  "nbformat": 4,
  "nbformat_minor": 0,
  "metadata": {
    "accelerator": "GPU",
    "colab": {
      "name": "e95_92_03.ipynb",
      "provenance": [],
      "collapsed_sections": []
    },
    "kernelspec": {
      "display_name": "Python 3",
      "name": "python3"
    }
  },
  "cells": [
    {
      "cell_type": "code",
      "metadata": {
        "colab": {
          "base_uri": "https://localhost:8080/"
        },
        "id": "7Mhnx-iE2QZ1",
        "outputId": "06720f52-b615-4497-cf93-81461cc21fb5"
      },
      "source": [
        "!nvidia-smi"
      ],
      "execution_count": 5,
      "outputs": [
        {
          "output_type": "stream",
          "text": [
            "Fri Aug 20 05:50:25 2021       \n",
            "+-----------------------------------------------------------------------------+\n",
            "| NVIDIA-SMI 470.57.02    Driver Version: 460.32.03    CUDA Version: 11.2     |\n",
            "|-------------------------------+----------------------+----------------------+\n",
            "| GPU  Name        Persistence-M| Bus-Id        Disp.A | Volatile Uncorr. ECC |\n",
            "| Fan  Temp  Perf  Pwr:Usage/Cap|         Memory-Usage | GPU-Util  Compute M. |\n",
            "|                               |                      |               MIG M. |\n",
            "|===============================+======================+======================|\n",
            "|   0  Tesla T4            Off  | 00000000:00:04.0 Off |                    0 |\n",
            "| N/A   35C    P8     9W /  70W |      0MiB / 15109MiB |      0%      Default |\n",
            "|                               |                      |                  N/A |\n",
            "+-------------------------------+----------------------+----------------------+\n",
            "                                                                               \n",
            "+-----------------------------------------------------------------------------+\n",
            "| Processes:                                                                  |\n",
            "|  GPU   GI   CI        PID   Type   Process name                  GPU Memory |\n",
            "|        ID   ID                                                   Usage      |\n",
            "|=============================================================================|\n",
            "|  No running processes found                                                 |\n",
            "+-----------------------------------------------------------------------------+\n"
          ],
          "name": "stdout"
        }
      ]
    },
    {
      "cell_type": "code",
      "metadata": {
        "id": "Q2ieMsjHp6D0",
        "colab": {
          "base_uri": "https://localhost:8080/"
        },
        "outputId": "0f034e34-ff4f-4a6f-efff-6eed32083f76"
      },
      "source": [
        "from google.colab import drive\n",
        "drive.mount('/content/drive')"
      ],
      "execution_count": 6,
      "outputs": [
        {
          "output_type": "stream",
          "text": [
            "Drive already mounted at /content/drive; to attempt to forcibly remount, call drive.mount(\"/content/drive\", force_remount=True).\n"
          ],
          "name": "stdout"
        }
      ]
    },
    {
      "cell_type": "code",
      "metadata": {
        "id": "YsK0caVGuSJi"
      },
      "source": [
        "import pandas as pd\n",
        "import numpy as np\n",
        "import re\n",
        "import os\n",
        "import matplotlib as plt\n",
        "from bs4 import BeautifulSoup\n",
        "import numpy as np\n",
        "import matplotlib.pyplot as plt\n",
        "%matplotlib inline\n",
        "import pandas as pd\n",
        "import seaborn as sns\n",
        "import re,nltk,json, pickle\n",
        "import tensorflow as tf\n",
        "os.environ['TF_CPP_MIN_LOG_LEVEL'] = '3'\n",
        "from bs4 import BeautifulSoup\n",
        "from tensorflow import keras\n",
        "from keras.models import Sequential\n",
        "from tensorflow.keras import regularizers\n",
        "from tensorflow.keras.preprocessing.sequence import pad_sequences\n",
        "from tensorflow.keras.layers import LSTM,GRU,Bidirectional\n",
        "from tensorflow.keras.models import load_model\n",
        "from sklearn.metrics import confusion_matrix\n",
        "from sklearn.metrics import classification_report \n",
        "from sklearn.model_selection import train_test_split\n",
        "from sklearn.metrics import accuracy_score,precision_score,recall_score,f1_score,roc_auc_score\n",
        "from sklearn.preprocessing import LabelEncoder\n",
        "from tensorflow.keras.preprocessing.text import Tokenizer\n",
        "import pandas as pd\n",
        "import numpy as np\n",
        "import re\n",
        "from re import sub\n",
        "import multiprocessing\n",
        "import os\n",
        "from time import time \n",
        "import tensorflow as tf\n",
        "import keras\n",
        "from keras.models import Sequential\n",
        "from keras.layers import LSTM,Dense,Dropout,Activation,Embedding,Flatten,Bidirectional,MaxPooling1D, Conv1D, MaxPooling1D\n",
        "from keras import regularizers\n",
        "from keras.preprocessing.text import Tokenizer\n",
        "from keras.preprocessing.sequence import pad_sequences\n",
        "from keras.utils.np_utils import to_categorical\n",
        "import h5py\n",
        "import csv\n",
        "import seaborn as sns\n",
        "import matplotlib.pyplot as plt\n",
        "from sklearn.model_selection import train_test_split\n",
        "import nltk\n",
        "from nltk.corpus import stopwords"
      ],
      "execution_count": 7,
      "outputs": []
    },
    {
      "cell_type": "markdown",
      "metadata": {
        "id": "eAI_V3n8YFhQ"
      },
      "source": [
        "# **Dataset without stop word**"
      ]
    },
    {
      "cell_type": "code",
      "metadata": {
        "id": "FSSoQiNtd0ms",
        "colab": {
          "base_uri": "https://localhost:8080/"
        },
        "outputId": "af722ee9-f53e-48e1-f6f7-b434fed35eb0"
      },
      "source": [
        "file=\"/content/drive/MyDrive/stop_news.csv\"\n",
        "dataset=pd.read_csv(file,error_bad_lines=False, engine=\"python\" ) # engine =\"c\" \n",
        "print(f\"There are {len(dataset)} articles in the dataset.\")"
      ],
      "execution_count": 8,
      "outputs": [
        {
          "output_type": "stream",
          "text": [
            "There are 28800 articles in the dataset.\n"
          ],
          "name": "stdout"
        }
      ]
    },
    {
      "cell_type": "markdown",
      "metadata": {
        "id": "4QXEp3ju_2WN"
      },
      "source": [
        "# **Dataset summary**"
      ]
    },
    {
      "cell_type": "markdown",
      "metadata": {
        "id": "HxORuOwI_8PK"
      },
      "source": [
        "# **Label Encoding, Tokenization & Padding**"
      ]
    },
    {
      "cell_type": "code",
      "metadata": {
        "id": "Eozpx8EA3J3O",
        "colab": {
          "base_uri": "https://localhost:8080/"
        },
        "outputId": "21855cbc-6f15-4d75-ed7b-411270813056"
      },
      "source": [
        "from sklearn.preprocessing import LabelEncoder\n",
        "\n",
        "catlabel = LabelEncoder()\n",
        "label = catlabel.fit_transform(dataset['category'])\n",
        "\n",
        "\n",
        "print(set(label))\n",
        "print(catlabel.classes_)"
      ],
      "execution_count": 9,
      "outputs": [
        {
          "output_type": "stream",
          "text": [
            "{0, 1, 2, 3, 4, 5, 6, 7, 8, 9, 10, 11}\n",
            "['accident' 'art' 'crime' 'economics' 'education' 'entertainment'\n",
            " 'environment' 'international' 'opinion' 'politics' 'science_tech'\n",
            " 'sports']\n"
          ],
          "name": "stdout"
        }
      ]
    },
    {
      "cell_type": "markdown",
      "metadata": {
        "id": "BHMEuW2j5RTo"
      },
      "source": [
        "# **Train & split**"
      ]
    },
    {
      "cell_type": "code",
      "metadata": {
        "id": "sVC4GFTs3U0S"
      },
      "source": [
        "import tensorflow as tf\n",
        "from tensorflow.keras.preprocessing.text import Tokenizer\n",
        "from tensorflow.keras.preprocessing.sequence import pad_sequences\n",
        "tokenizer = Tokenizer(oov_token=\"<OOV>\")\n",
        "tokenizer.fit_on_texts(dataset['news'])"
      ],
      "execution_count": 10,
      "outputs": []
    },
    {
      "cell_type": "code",
      "metadata": {
        "id": "JLBrLrpr3b2V",
        "colab": {
          "base_uri": "https://localhost:8080/"
        },
        "outputId": "01fceb7a-bd5c-4c77-be3c-b5b8e8e178fb"
      },
      "source": [
        "len(tokenizer.word_index)\n",
        "vocab_size = len(tokenizer.word_index) + 1\n",
        "vocab_size"
      ],
      "execution_count": 11,
      "outputs": [
        {
          "output_type": "execute_result",
          "data": {
            "text/plain": [
              "297130"
            ]
          },
          "metadata": {},
          "execution_count": 11
        }
      ]
    },
    {
      "cell_type": "code",
      "metadata": {
        "id": "f2KawrM03izT"
      },
      "source": [
        "max_length = 350\n",
        "trunc_type='post'\n",
        "padding_type='post'\n",
        "news = dataset['news']\n",
        "news_sequences = tokenizer.texts_to_sequences(news)\n",
        "news_padded = pad_sequences(news_sequences, maxlen=max_length, padding=padding_type, truncating=trunc_type)"
      ],
      "execution_count": 12,
      "outputs": []
    },
    {
      "cell_type": "markdown",
      "metadata": {
        "id": "gNBWsNtLAFR8"
      },
      "source": [
        "# **Fasttext Word Embedding**"
      ]
    },
    {
      "cell_type": "code",
      "metadata": {
        "id": "_hOryPfH6bGI"
      },
      "source": [
        "from urllib.request import urlopen\n",
        "import gzip\n",
        "file = gzip.open(urlopen('https://dl.fbaipublicfiles.com/fasttext/vectors-crawl/cc.bn.300.vec.gz'))"
      ],
      "execution_count": 13,
      "outputs": []
    },
    {
      "cell_type": "code",
      "metadata": {
        "id": "IsM9dPv46gZX"
      },
      "source": [
        "vocab_and_vectors = {}\n",
        "for line in file:\n",
        "  values = line.split()\n",
        "  word = values[0].decode('utf-8')\n",
        "  vector = np.asarray(values[1:], dtype='float16')\n",
        "  vocab_and_vectors[word] = vector"
      ],
      "execution_count": 14,
      "outputs": []
    },
    {
      "cell_type": "code",
      "metadata": {
        "id": "04YkDjjBLcfl",
        "colab": {
          "base_uri": "https://localhost:8080/"
        },
        "outputId": "be84874a-e9b5-41cb-fd03-0e3ac2bb0e00"
      },
      "source": [
        "len(vocab_and_vectors)"
      ],
      "execution_count": 15,
      "outputs": [
        {
          "output_type": "execute_result",
          "data": {
            "text/plain": [
              "1468579"
            ]
          },
          "metadata": {},
          "execution_count": 15
        }
      ]
    },
    {
      "cell_type": "code",
      "metadata": {
        "id": "kyFS3DP-6l2a",
        "colab": {
          "base_uri": "https://localhost:8080/"
        },
        "outputId": "ec9173ce-83cd-451a-e461-249206f05fc3"
      },
      "source": [
        "max_nb_features = 297131\n",
        "print('preparing embedding matrix...')\n",
        "words_not_found = []\n",
        "nb_words = min(max_nb_features, vocab_size)\n",
        "embedding_matrix = np.zeros((nb_words,300))\n",
        "for word, i in tokenizer.word_index.items():\n",
        "    if i >= nb_words:\n",
        "        continue\n",
        "    embedding_vector = vocab_and_vectors.get(word)\n",
        "    if (embedding_vector is not None) and len(embedding_vector) > 0:\n",
        "        # words not found in embedding index will be all-zeros.\n",
        "        embedding_matrix[i] = embedding_vector\n",
        "    else:\n",
        "        words_not_found.append(word)\n",
        "print('number of null word embeddings: %d' % np.sum(np.sum(embedding_matrix, axis=1) == 0))"
      ],
      "execution_count": 16,
      "outputs": [
        {
          "output_type": "stream",
          "text": [
            "preparing embedding matrix...\n",
            "number of null word embeddings: 123681\n"
          ],
          "name": "stdout"
        }
      ]
    },
    {
      "cell_type": "code",
      "metadata": {
        "id": "7gJbkpEFY7F2",
        "colab": {
          "base_uri": "https://localhost:8080/"
        },
        "outputId": "e8df1294-2837-47af-994e-8616618d7034"
      },
      "source": [
        "len(embedding_matrix)\n",
        "nb_words"
      ],
      "execution_count": 17,
      "outputs": [
        {
          "output_type": "execute_result",
          "data": {
            "text/plain": [
              "297130"
            ]
          },
          "metadata": {},
          "execution_count": 17
        }
      ]
    },
    {
      "cell_type": "code",
      "metadata": {
        "id": "O7pryb8ezci4"
      },
      "source": [
        "import keras\n",
        "from keras.models import Sequential\n",
        "from keras.layers import LSTM,Dense,Dropout,Activation,Embedding,Flatten,Bidirectional,MaxPooling1D, Conv1D, MaxPooling1D, GlobalMaxPool1D"
      ],
      "execution_count": 18,
      "outputs": []
    },
    {
      "cell_type": "markdown",
      "metadata": {
        "id": "Qd2xk-UyALaR"
      },
      "source": [
        "# **Model**"
      ]
    },
    {
      "cell_type": "code",
      "metadata": {
        "id": "3J-kP5ZLhdpm",
        "colab": {
          "base_uri": "https://localhost:8080/"
        },
        "outputId": "e66033ef-c579-4769-e39a-cf857acdd1f9"
      },
      "source": [
        "model= Sequential()\n",
        "model.add(Embedding(nb_words, 300, weights=[embedding_matrix], input_length=max_length))\n",
        "#model.add(Conv1D(512, 3, activation= 'elu'))\n",
        "model.add(Bidirectional(LSTM(256, return_sequences=True,dropout = 0.3)))\n",
        "model.add(Bidirectional(LSTM(256, return_sequences=True,dropout = 0.3)))\n",
        "model.add(Dense(128, activation='relu'))\n",
        "model.add(Dense(128, activation='relu'))\n",
        "model.add(Flatten())\n",
        "model.add(Dense(12 , activation='softplus'))\n",
        "\n",
        "model.summary()\n",
        "\n",
        "model.compile(optimizer='adamax',\n",
        "    loss='sparse_categorical_crossentropy',\n",
        "    metrics=['accuracy'])"
      ],
      "execution_count": 19,
      "outputs": [
        {
          "output_type": "stream",
          "text": [
            "Model: \"sequential\"\n",
            "_________________________________________________________________\n",
            "Layer (type)                 Output Shape              Param #   \n",
            "=================================================================\n",
            "embedding (Embedding)        (None, 350, 300)          89139000  \n",
            "_________________________________________________________________\n",
            "bidirectional (Bidirectional (None, 350, 512)          1140736   \n",
            "_________________________________________________________________\n",
            "bidirectional_1 (Bidirection (None, 350, 512)          1574912   \n",
            "_________________________________________________________________\n",
            "dense (Dense)                (None, 350, 128)          65664     \n",
            "_________________________________________________________________\n",
            "dense_1 (Dense)              (None, 350, 128)          16512     \n",
            "_________________________________________________________________\n",
            "flatten (Flatten)            (None, 44800)             0         \n",
            "_________________________________________________________________\n",
            "dense_2 (Dense)              (None, 12)                537612    \n",
            "=================================================================\n",
            "Total params: 92,474,436\n",
            "Trainable params: 92,474,436\n",
            "Non-trainable params: 0\n",
            "_________________________________________________________________\n"
          ],
          "name": "stdout"
        }
      ]
    },
    {
      "cell_type": "code",
      "metadata": {
        "id": "_13bLdcxOoC2"
      },
      "source": [
        "X,X_test,y,y_test = train_test_split(news_padded,label,train_size = 0.8,\n",
        "                                                  test_size = 0.2,random_state =42)\n",
        "X_train,X_valid,y_train,y_valid = train_test_split(X,y,train_size = 0.8,\n",
        "                                                  test_size = 0.2,random_state =42)"
      ],
      "execution_count": 20,
      "outputs": []
    },
    {
      "cell_type": "code",
      "metadata": {
        "id": "i2ey8Cgl7PCV",
        "colab": {
          "base_uri": "https://localhost:8080/"
        },
        "outputId": "bdbaac90-6ceb-4dd1-ea95-0e70a8647f4a"
      },
      "source": [
        "print(X_train.shape)\n",
        "print(y_train.shape)\n",
        "print(X_test.shape)\n",
        "print(y_test.shape)\n",
        "print(X_valid.shape)\n",
        "print(y_valid.shape)\n",
        "\n",
        "X_train = np.asarray(X_train)\n",
        "y_train = np.asarray(y_train)\n",
        "X_valid = np.asarray(X_valid)\n",
        "y_valid = np.asarray(y_valid)\n",
        "X_test = np.asarray(X_test)\n",
        "y_test = np.asarray(y_test)"
      ],
      "execution_count": 21,
      "outputs": [
        {
          "output_type": "stream",
          "text": [
            "(18432, 350)\n",
            "(18432,)\n",
            "(5760, 350)\n",
            "(5760,)\n",
            "(4608, 350)\n",
            "(4608,)\n"
          ],
          "name": "stdout"
        }
      ]
    },
    {
      "cell_type": "code",
      "metadata": {
        "id": "RC8ui5zHWOdI",
        "colab": {
          "base_uri": "https://localhost:8080/"
        },
        "outputId": "e070d97e-a53f-4cda-8d73-1f304cf617fc"
      },
      "source": [
        "from keras.callbacks import ModelCheckpoint, EarlyStopping\n",
        "filepath=\"/content/drive/MyDrive/Model/20.h5\"\n",
        "es = EarlyStopping(monitor='val_loss', mode='min', verbose=1, patience=200)\n",
        "checkpointer = ModelCheckpoint(filepath, monitor='val_accuracy', verbose=1, save_best_only=True, mode='max')\n",
        "history = model.fit([X_train], batch_size=128, y=y_train, verbose=1, validation_data=(X_valid,y_valid), \n",
        "          shuffle=True, epochs=95, callbacks=[es, checkpointer])"
      ],
      "execution_count": 22,
      "outputs": [
        {
          "output_type": "stream",
          "text": [
            "Epoch 1/95\n",
            "144/144 [==============================] - 57s 319ms/step - loss: 0.9060 - accuracy: 0.7022 - val_loss: 0.4843 - val_accuracy: 0.8451\n",
            "\n",
            "Epoch 00001: val_accuracy improved from -inf to 0.84505, saving model to /content/drive/MyDrive/Model/20.h5\n",
            "Epoch 2/95\n",
            "144/144 [==============================] - 47s 324ms/step - loss: 0.3422 - accuracy: 0.8957 - val_loss: 0.3825 - val_accuracy: 0.8839\n",
            "\n",
            "Epoch 00002: val_accuracy improved from 0.84505 to 0.88390, saving model to /content/drive/MyDrive/Model/20.h5\n",
            "Epoch 3/95\n",
            "144/144 [==============================] - 47s 329ms/step - loss: 0.2011 - accuracy: 0.9360 - val_loss: 0.3399 - val_accuracy: 0.8978\n",
            "\n",
            "Epoch 00003: val_accuracy improved from 0.88390 to 0.89779, saving model to /content/drive/MyDrive/Model/20.h5\n",
            "Epoch 4/95\n",
            "144/144 [==============================] - 48s 333ms/step - loss: 0.1241 - accuracy: 0.9616 - val_loss: 0.3635 - val_accuracy: 0.8984\n",
            "\n",
            "Epoch 00004: val_accuracy improved from 0.89779 to 0.89844, saving model to /content/drive/MyDrive/Model/20.h5\n",
            "Epoch 5/95\n",
            "144/144 [==============================] - 47s 326ms/step - loss: 0.0794 - accuracy: 0.9740 - val_loss: 0.3734 - val_accuracy: 0.9008\n",
            "\n",
            "Epoch 00005: val_accuracy improved from 0.89844 to 0.90082, saving model to /content/drive/MyDrive/Model/20.h5\n",
            "Epoch 6/95\n",
            "144/144 [==============================] - 49s 337ms/step - loss: 0.0571 - accuracy: 0.9810 - val_loss: 0.4236 - val_accuracy: 0.8993\n",
            "\n",
            "Epoch 00006: val_accuracy did not improve from 0.90082\n",
            "Epoch 7/95\n",
            "144/144 [==============================] - 49s 340ms/step - loss: 0.0393 - accuracy: 0.9875 - val_loss: 0.4292 - val_accuracy: 0.9093\n",
            "\n",
            "Epoch 00007: val_accuracy improved from 0.90082 to 0.90929, saving model to /content/drive/MyDrive/Model/20.h5\n",
            "Epoch 8/95\n",
            "144/144 [==============================] - 48s 330ms/step - loss: 0.0284 - accuracy: 0.9912 - val_loss: 0.4733 - val_accuracy: 0.8954\n",
            "\n",
            "Epoch 00008: val_accuracy did not improve from 0.90929\n",
            "Epoch 9/95\n",
            "144/144 [==============================] - 49s 340ms/step - loss: 0.0209 - accuracy: 0.9930 - val_loss: 0.4659 - val_accuracy: 0.9110\n",
            "\n",
            "Epoch 00009: val_accuracy improved from 0.90929 to 0.91102, saving model to /content/drive/MyDrive/Model/20.h5\n",
            "Epoch 10/95\n",
            "144/144 [==============================] - 49s 338ms/step - loss: 0.0182 - accuracy: 0.9937 - val_loss: 0.5191 - val_accuracy: 0.9026\n",
            "\n",
            "Epoch 00010: val_accuracy did not improve from 0.91102\n",
            "Epoch 11/95\n",
            "144/144 [==============================] - 49s 341ms/step - loss: 0.0149 - accuracy: 0.9952 - val_loss: 0.4551 - val_accuracy: 0.9110\n",
            "\n",
            "Epoch 00011: val_accuracy did not improve from 0.91102\n",
            "Epoch 12/95\n",
            "144/144 [==============================] - 48s 332ms/step - loss: 0.0155 - accuracy: 0.9945 - val_loss: 0.5093 - val_accuracy: 0.9026\n",
            "\n",
            "Epoch 00012: val_accuracy did not improve from 0.91102\n",
            "Epoch 13/95\n",
            "144/144 [==============================] - 48s 332ms/step - loss: 0.0083 - accuracy: 0.9973 - val_loss: 0.5030 - val_accuracy: 0.9086\n",
            "\n",
            "Epoch 00013: val_accuracy did not improve from 0.91102\n",
            "Epoch 14/95\n",
            "144/144 [==============================] - 49s 340ms/step - loss: 0.0100 - accuracy: 0.9965 - val_loss: 0.5056 - val_accuracy: 0.9073\n",
            "\n",
            "Epoch 00014: val_accuracy did not improve from 0.91102\n",
            "Epoch 15/95\n",
            "144/144 [==============================] - 48s 332ms/step - loss: 0.0090 - accuracy: 0.9970 - val_loss: 0.5083 - val_accuracy: 0.9112\n",
            "\n",
            "Epoch 00015: val_accuracy improved from 0.91102 to 0.91124, saving model to /content/drive/MyDrive/Model/20.h5\n",
            "Epoch 16/95\n",
            "144/144 [==============================] - 49s 341ms/step - loss: 0.0089 - accuracy: 0.9972 - val_loss: 0.4902 - val_accuracy: 0.9091\n",
            "\n",
            "Epoch 00016: val_accuracy did not improve from 0.91124\n",
            "Epoch 17/95\n",
            "144/144 [==============================] - 49s 340ms/step - loss: 0.0051 - accuracy: 0.9980 - val_loss: 0.5629 - val_accuracy: 0.9062\n",
            "\n",
            "Epoch 00017: val_accuracy did not improve from 0.91124\n",
            "Epoch 18/95\n",
            "144/144 [==============================] - 49s 340ms/step - loss: 0.0098 - accuracy: 0.9961 - val_loss: 0.5018 - val_accuracy: 0.9121\n",
            "\n",
            "Epoch 00018: val_accuracy improved from 0.91124 to 0.91211, saving model to /content/drive/MyDrive/Model/20.h5\n",
            "Epoch 19/95\n",
            "144/144 [==============================] - 49s 339ms/step - loss: 0.0074 - accuracy: 0.9978 - val_loss: 0.4948 - val_accuracy: 0.9108\n",
            "\n",
            "Epoch 00019: val_accuracy did not improve from 0.91211\n",
            "Epoch 20/95\n",
            "144/144 [==============================] - 49s 340ms/step - loss: 0.0074 - accuracy: 0.9971 - val_loss: 0.4971 - val_accuracy: 0.9089\n",
            "\n",
            "Epoch 00020: val_accuracy did not improve from 0.91211\n",
            "Epoch 21/95\n",
            "144/144 [==============================] - 49s 340ms/step - loss: 0.0034 - accuracy: 0.9987 - val_loss: 0.4994 - val_accuracy: 0.9138\n",
            "\n",
            "Epoch 00021: val_accuracy improved from 0.91211 to 0.91385, saving model to /content/drive/MyDrive/Model/20.h5\n",
            "Epoch 22/95\n",
            "144/144 [==============================] - 48s 331ms/step - loss: 0.0051 - accuracy: 0.9982 - val_loss: 0.5099 - val_accuracy: 0.9147\n",
            "\n",
            "Epoch 00022: val_accuracy improved from 0.91385 to 0.91471, saving model to /content/drive/MyDrive/Model/20.h5\n",
            "Epoch 23/95\n",
            "144/144 [==============================] - 47s 329ms/step - loss: 0.0019 - accuracy: 0.9992 - val_loss: 0.5215 - val_accuracy: 0.9141\n",
            "\n",
            "Epoch 00023: val_accuracy did not improve from 0.91471\n",
            "Epoch 24/95\n",
            "144/144 [==============================] - 48s 331ms/step - loss: 0.0020 - accuracy: 0.9993 - val_loss: 0.5467 - val_accuracy: 0.9117\n",
            "\n",
            "Epoch 00024: val_accuracy did not improve from 0.91471\n",
            "Epoch 25/95\n",
            "144/144 [==============================] - 48s 331ms/step - loss: 0.0032 - accuracy: 0.9988 - val_loss: 0.5269 - val_accuracy: 0.9145\n",
            "\n",
            "Epoch 00025: val_accuracy did not improve from 0.91471\n",
            "Epoch 26/95\n",
            "144/144 [==============================] - 49s 340ms/step - loss: 0.0019 - accuracy: 0.9992 - val_loss: 0.5401 - val_accuracy: 0.9130\n",
            "\n",
            "Epoch 00026: val_accuracy did not improve from 0.91471\n",
            "Epoch 27/95\n",
            "144/144 [==============================] - 49s 340ms/step - loss: 0.0031 - accuracy: 0.9990 - val_loss: 0.5489 - val_accuracy: 0.9091\n",
            "\n",
            "Epoch 00027: val_accuracy did not improve from 0.91471\n",
            "Epoch 28/95\n",
            "144/144 [==============================] - 48s 332ms/step - loss: 0.0086 - accuracy: 0.9970 - val_loss: 0.5348 - val_accuracy: 0.9071\n",
            "\n",
            "Epoch 00028: val_accuracy did not improve from 0.91471\n",
            "Epoch 29/95\n",
            "144/144 [==============================] - 48s 332ms/step - loss: 0.0031 - accuracy: 0.9990 - val_loss: 0.5016 - val_accuracy: 0.9160\n",
            "\n",
            "Epoch 00029: val_accuracy improved from 0.91471 to 0.91602, saving model to /content/drive/MyDrive/Model/20.h5\n",
            "Epoch 30/95\n",
            "144/144 [==============================] - 49s 341ms/step - loss: 0.0019 - accuracy: 0.9992 - val_loss: 0.5096 - val_accuracy: 0.9138\n",
            "\n",
            "Epoch 00030: val_accuracy did not improve from 0.91602\n",
            "Epoch 31/95\n",
            "144/144 [==============================] - 49s 340ms/step - loss: 0.0040 - accuracy: 0.9986 - val_loss: 0.5127 - val_accuracy: 0.9117\n",
            "\n",
            "Epoch 00031: val_accuracy did not improve from 0.91602\n",
            "Epoch 32/95\n",
            "144/144 [==============================] - 49s 340ms/step - loss: 0.0015 - accuracy: 0.9992 - val_loss: 0.5208 - val_accuracy: 0.9160\n",
            "\n",
            "Epoch 00032: val_accuracy did not improve from 0.91602\n",
            "Epoch 33/95\n",
            "144/144 [==============================] - 49s 340ms/step - loss: 0.0051 - accuracy: 0.9983 - val_loss: 0.5086 - val_accuracy: 0.9102\n",
            "\n",
            "Epoch 00033: val_accuracy did not improve from 0.91602\n",
            "Epoch 34/95\n",
            "144/144 [==============================] - 49s 340ms/step - loss: 0.0014 - accuracy: 0.9993 - val_loss: 0.5146 - val_accuracy: 0.9125\n",
            "\n",
            "Epoch 00034: val_accuracy did not improve from 0.91602\n",
            "Epoch 35/95\n",
            "144/144 [==============================] - 48s 331ms/step - loss: 0.0014 - accuracy: 0.9993 - val_loss: 0.5251 - val_accuracy: 0.9154\n",
            "\n",
            "Epoch 00035: val_accuracy did not improve from 0.91602\n",
            "Epoch 36/95\n",
            "144/144 [==============================] - 48s 331ms/step - loss: 0.0012 - accuracy: 0.9994 - val_loss: 0.5271 - val_accuracy: 0.9171\n",
            "\n",
            "Epoch 00036: val_accuracy improved from 0.91602 to 0.91710, saving model to /content/drive/MyDrive/Model/20.h5\n",
            "Epoch 37/95\n",
            "144/144 [==============================] - 49s 340ms/step - loss: 0.0029 - accuracy: 0.9987 - val_loss: 0.5735 - val_accuracy: 0.9102\n",
            "\n",
            "Epoch 00037: val_accuracy did not improve from 0.91710\n",
            "Epoch 38/95\n",
            "144/144 [==============================] - 49s 340ms/step - loss: 0.0043 - accuracy: 0.9985 - val_loss: 0.5845 - val_accuracy: 0.9091\n",
            "\n",
            "Epoch 00038: val_accuracy did not improve from 0.91710\n",
            "Epoch 39/95\n",
            "144/144 [==============================] - 48s 332ms/step - loss: 0.0025 - accuracy: 0.9989 - val_loss: 0.5714 - val_accuracy: 0.9106\n",
            "\n",
            "Epoch 00039: val_accuracy did not improve from 0.91710\n",
            "Epoch 40/95\n",
            "144/144 [==============================] - 48s 331ms/step - loss: 0.0035 - accuracy: 0.9985 - val_loss: 0.5678 - val_accuracy: 0.9082\n",
            "\n",
            "Epoch 00040: val_accuracy did not improve from 0.91710\n",
            "Epoch 41/95\n",
            "144/144 [==============================] - 48s 331ms/step - loss: 0.0030 - accuracy: 0.9989 - val_loss: 0.5281 - val_accuracy: 0.9149\n",
            "\n",
            "Epoch 00041: val_accuracy did not improve from 0.91710\n",
            "Epoch 42/95\n",
            "144/144 [==============================] - 49s 340ms/step - loss: 0.0012 - accuracy: 0.9993 - val_loss: 0.5390 - val_accuracy: 0.9154\n",
            "\n",
            "Epoch 00042: val_accuracy did not improve from 0.91710\n",
            "Epoch 43/95\n",
            "144/144 [==============================] - 49s 340ms/step - loss: 9.5944e-04 - accuracy: 0.9995 - val_loss: 0.5465 - val_accuracy: 0.9151\n",
            "\n",
            "Epoch 00043: val_accuracy did not improve from 0.91710\n",
            "Epoch 44/95\n",
            "144/144 [==============================] - 48s 331ms/step - loss: 0.0011 - accuracy: 0.9991 - val_loss: 0.5553 - val_accuracy: 0.9169\n",
            "\n",
            "Epoch 00044: val_accuracy did not improve from 0.91710\n",
            "Epoch 45/95\n",
            "144/144 [==============================] - 49s 340ms/step - loss: 0.0044 - accuracy: 0.9983 - val_loss: 0.6439 - val_accuracy: 0.8952\n",
            "\n",
            "Epoch 00045: val_accuracy did not improve from 0.91710\n",
            "Epoch 46/95\n",
            "144/144 [==============================] - 48s 332ms/step - loss: 0.0057 - accuracy: 0.9977 - val_loss: 0.5375 - val_accuracy: 0.9086\n",
            "\n",
            "Epoch 00046: val_accuracy did not improve from 0.91710\n",
            "Epoch 47/95\n",
            "144/144 [==============================] - 48s 331ms/step - loss: 0.0014 - accuracy: 0.9992 - val_loss: 0.5588 - val_accuracy: 0.9086\n",
            "\n",
            "Epoch 00047: val_accuracy did not improve from 0.91710\n",
            "Epoch 48/95\n",
            "144/144 [==============================] - 48s 331ms/step - loss: 0.0034 - accuracy: 0.9985 - val_loss: 0.5801 - val_accuracy: 0.9023\n",
            "\n",
            "Epoch 00048: val_accuracy did not improve from 0.91710\n",
            "Epoch 49/95\n",
            "144/144 [==============================] - 49s 340ms/step - loss: 0.0020 - accuracy: 0.9992 - val_loss: 0.6047 - val_accuracy: 0.9065\n",
            "\n",
            "Epoch 00049: val_accuracy did not improve from 0.91710\n",
            "Epoch 50/95\n",
            "144/144 [==============================] - 49s 340ms/step - loss: 0.0016 - accuracy: 0.9989 - val_loss: 0.5577 - val_accuracy: 0.9117\n",
            "\n",
            "Epoch 00050: val_accuracy did not improve from 0.91710\n",
            "Epoch 51/95\n",
            "144/144 [==============================] - 49s 340ms/step - loss: 0.0010 - accuracy: 0.9992 - val_loss: 0.5497 - val_accuracy: 0.9130\n",
            "\n",
            "Epoch 00051: val_accuracy did not improve from 0.91710\n",
            "Epoch 52/95\n",
            "144/144 [==============================] - 49s 340ms/step - loss: 9.5946e-04 - accuracy: 0.9995 - val_loss: 0.5553 - val_accuracy: 0.9141\n",
            "\n",
            "Epoch 00052: val_accuracy did not improve from 0.91710\n",
            "Epoch 53/95\n",
            "144/144 [==============================] - 49s 339ms/step - loss: 9.4159e-04 - accuracy: 0.9992 - val_loss: 0.5590 - val_accuracy: 0.9141\n",
            "\n",
            "Epoch 00053: val_accuracy did not improve from 0.91710\n",
            "Epoch 54/95\n",
            "144/144 [==============================] - 48s 331ms/step - loss: 9.3872e-04 - accuracy: 0.9993 - val_loss: 0.5633 - val_accuracy: 0.9145\n",
            "\n",
            "Epoch 00054: val_accuracy did not improve from 0.91710\n",
            "Epoch 55/95\n",
            "144/144 [==============================] - 48s 330ms/step - loss: 9.3296e-04 - accuracy: 0.9992 - val_loss: 0.5631 - val_accuracy: 0.9132\n",
            "\n",
            "Epoch 00055: val_accuracy did not improve from 0.91710\n",
            "Epoch 56/95\n",
            "144/144 [==============================] - 49s 339ms/step - loss: 9.2958e-04 - accuracy: 0.9993 - val_loss: 0.5689 - val_accuracy: 0.9128\n",
            "\n",
            "Epoch 00056: val_accuracy did not improve from 0.91710\n",
            "Epoch 57/95\n",
            "144/144 [==============================] - 49s 337ms/step - loss: 9.5185e-04 - accuracy: 0.9992 - val_loss: 0.5849 - val_accuracy: 0.9158\n",
            "\n",
            "Epoch 00057: val_accuracy did not improve from 0.91710\n",
            "Epoch 58/95\n",
            "144/144 [==============================] - 49s 340ms/step - loss: 0.0045 - accuracy: 0.9982 - val_loss: 0.5728 - val_accuracy: 0.9138\n",
            "\n",
            "Epoch 00058: val_accuracy did not improve from 0.91710\n",
            "Epoch 59/95\n",
            "144/144 [==============================] - 48s 332ms/step - loss: 0.0031 - accuracy: 0.9989 - val_loss: 0.6493 - val_accuracy: 0.8991\n",
            "\n",
            "Epoch 00059: val_accuracy did not improve from 0.91710\n",
            "Epoch 60/95\n",
            "144/144 [==============================] - 48s 331ms/step - loss: 0.0025 - accuracy: 0.9990 - val_loss: 0.5433 - val_accuracy: 0.9121\n",
            "\n",
            "Epoch 00060: val_accuracy did not improve from 0.91710\n",
            "Epoch 61/95\n",
            "144/144 [==============================] - 49s 340ms/step - loss: 0.0023 - accuracy: 0.9988 - val_loss: 0.5435 - val_accuracy: 0.9121\n",
            "\n",
            "Epoch 00061: val_accuracy did not improve from 0.91710\n",
            "Epoch 62/95\n",
            "144/144 [==============================] - 49s 340ms/step - loss: 0.0011 - accuracy: 0.9993 - val_loss: 0.5434 - val_accuracy: 0.9141\n",
            "\n",
            "Epoch 00062: val_accuracy did not improve from 0.91710\n",
            "Epoch 63/95\n",
            "144/144 [==============================] - 48s 332ms/step - loss: 9.8319e-04 - accuracy: 0.9994 - val_loss: 0.5509 - val_accuracy: 0.9164\n",
            "\n",
            "Epoch 00063: val_accuracy did not improve from 0.91710\n",
            "Epoch 64/95\n",
            "144/144 [==============================] - 49s 340ms/step - loss: 9.7874e-04 - accuracy: 0.9993 - val_loss: 0.5673 - val_accuracy: 0.9145\n",
            "\n",
            "Epoch 00064: val_accuracy did not improve from 0.91710\n",
            "Epoch 65/95\n",
            "144/144 [==============================] - 48s 331ms/step - loss: 9.3847e-04 - accuracy: 0.9994 - val_loss: 0.5645 - val_accuracy: 0.9147\n",
            "\n",
            "Epoch 00065: val_accuracy did not improve from 0.91710\n",
            "Epoch 66/95\n",
            "144/144 [==============================] - 48s 331ms/step - loss: 9.2908e-04 - accuracy: 0.9993 - val_loss: 0.5650 - val_accuracy: 0.9173\n",
            "\n",
            "Epoch 00066: val_accuracy improved from 0.91710 to 0.91732, saving model to /content/drive/MyDrive/Model/20.h5\n",
            "Epoch 67/95\n",
            "144/144 [==============================] - 48s 330ms/step - loss: 9.2332e-04 - accuracy: 0.9993 - val_loss: 0.5685 - val_accuracy: 0.9154\n",
            "\n",
            "Epoch 00067: val_accuracy did not improve from 0.91732\n",
            "Epoch 68/95\n",
            "144/144 [==============================] - 49s 339ms/step - loss: 9.3288e-04 - accuracy: 0.9993 - val_loss: 0.5686 - val_accuracy: 0.9162\n",
            "\n",
            "Epoch 00068: val_accuracy did not improve from 0.91732\n",
            "Epoch 69/95\n",
            "144/144 [==============================] - 47s 329ms/step - loss: 9.2427e-04 - accuracy: 0.9993 - val_loss: 0.5737 - val_accuracy: 0.9167\n",
            "\n",
            "Epoch 00069: val_accuracy did not improve from 0.91732\n",
            "Epoch 70/95\n",
            "144/144 [==============================] - 47s 329ms/step - loss: 9.1712e-04 - accuracy: 0.9995 - val_loss: 0.5772 - val_accuracy: 0.9178\n",
            "\n",
            "Epoch 00070: val_accuracy improved from 0.91732 to 0.91775, saving model to /content/drive/MyDrive/Model/20.h5\n",
            "Epoch 71/95\n",
            "144/144 [==============================] - 47s 329ms/step - loss: 9.3310e-04 - accuracy: 0.9992 - val_loss: 0.5806 - val_accuracy: 0.9173\n",
            "\n",
            "Epoch 00071: val_accuracy did not improve from 0.91775\n",
            "Epoch 72/95\n",
            "144/144 [==============================] - 48s 336ms/step - loss: 9.1665e-04 - accuracy: 0.9993 - val_loss: 0.5856 - val_accuracy: 0.9164\n",
            "\n",
            "Epoch 00072: val_accuracy did not improve from 0.91775\n",
            "Epoch 73/95\n",
            "144/144 [==============================] - 48s 337ms/step - loss: 9.1599e-04 - accuracy: 0.9995 - val_loss: 0.5933 - val_accuracy: 0.9167\n",
            "\n",
            "Epoch 00073: val_accuracy did not improve from 0.91775\n",
            "Epoch 74/95\n",
            "144/144 [==============================] - 49s 338ms/step - loss: 0.0028 - accuracy: 0.9989 - val_loss: 0.6585 - val_accuracy: 0.9028\n",
            "\n",
            "Epoch 00074: val_accuracy did not improve from 0.91775\n",
            "Epoch 75/95\n",
            "144/144 [==============================] - 49s 340ms/step - loss: 0.0039 - accuracy: 0.9979 - val_loss: 0.5831 - val_accuracy: 0.9104\n",
            "\n",
            "Epoch 00075: val_accuracy did not improve from 0.91775\n",
            "Epoch 76/95\n",
            "144/144 [==============================] - 48s 332ms/step - loss: 0.0011 - accuracy: 0.9994 - val_loss: 0.5698 - val_accuracy: 0.9141\n",
            "\n",
            "Epoch 00076: val_accuracy did not improve from 0.91775\n",
            "Epoch 77/95\n",
            "144/144 [==============================] - 49s 339ms/step - loss: 0.0013 - accuracy: 0.9991 - val_loss: 0.6434 - val_accuracy: 0.9084\n",
            "\n",
            "Epoch 00077: val_accuracy did not improve from 0.91775\n",
            "Epoch 78/95\n",
            "144/144 [==============================] - 49s 339ms/step - loss: 0.0023 - accuracy: 0.9991 - val_loss: 0.5733 - val_accuracy: 0.9141\n",
            "\n",
            "Epoch 00078: val_accuracy did not improve from 0.91775\n",
            "Epoch 79/95\n",
            "144/144 [==============================] - 49s 340ms/step - loss: 0.0013 - accuracy: 0.9993 - val_loss: 0.5852 - val_accuracy: 0.9134\n",
            "\n",
            "Epoch 00079: val_accuracy did not improve from 0.91775\n",
            "Epoch 80/95\n",
            "144/144 [==============================] - 49s 340ms/step - loss: 0.0014 - accuracy: 0.9993 - val_loss: 0.6411 - val_accuracy: 0.9086\n",
            "\n",
            "Epoch 00080: val_accuracy did not improve from 0.91775\n",
            "Epoch 81/95\n",
            "144/144 [==============================] - 49s 340ms/step - loss: 0.0028 - accuracy: 0.9991 - val_loss: 0.5488 - val_accuracy: 0.9154\n",
            "\n",
            "Epoch 00081: val_accuracy did not improve from 0.91775\n",
            "Epoch 82/95\n",
            "144/144 [==============================] - 49s 340ms/step - loss: 9.6143e-04 - accuracy: 0.9994 - val_loss: 0.5519 - val_accuracy: 0.9143\n",
            "\n",
            "Epoch 00082: val_accuracy did not improve from 0.91775\n",
            "Epoch 83/95\n",
            "144/144 [==============================] - 48s 332ms/step - loss: 9.3597e-04 - accuracy: 0.9995 - val_loss: 0.5555 - val_accuracy: 0.9141\n",
            "\n",
            "Epoch 00083: val_accuracy did not improve from 0.91775\n",
            "Epoch 84/95\n",
            "144/144 [==============================] - 48s 331ms/step - loss: 9.2902e-04 - accuracy: 0.9992 - val_loss: 0.5592 - val_accuracy: 0.9154\n",
            "\n",
            "Epoch 00084: val_accuracy did not improve from 0.91775\n",
            "Epoch 85/95\n",
            "144/144 [==============================] - 47s 330ms/step - loss: 9.2019e-04 - accuracy: 0.9993 - val_loss: 0.5624 - val_accuracy: 0.9149\n",
            "\n",
            "Epoch 00085: val_accuracy did not improve from 0.91775\n",
            "Epoch 86/95\n",
            "144/144 [==============================] - 49s 338ms/step - loss: 9.2312e-04 - accuracy: 0.9992 - val_loss: 0.5679 - val_accuracy: 0.9149\n",
            "\n",
            "Epoch 00086: val_accuracy did not improve from 0.91775\n",
            "Epoch 87/95\n",
            "144/144 [==============================] - 47s 329ms/step - loss: 9.1766e-04 - accuracy: 0.9992 - val_loss: 0.5694 - val_accuracy: 0.9158\n",
            "\n",
            "Epoch 00087: val_accuracy did not improve from 0.91775\n",
            "Epoch 88/95\n",
            "144/144 [==============================] - 49s 339ms/step - loss: 9.9491e-04 - accuracy: 0.9993 - val_loss: 0.6319 - val_accuracy: 0.9134\n",
            "\n",
            "Epoch 00088: val_accuracy did not improve from 0.91775\n",
            "Epoch 89/95\n",
            "144/144 [==============================] - 49s 340ms/step - loss: 0.0023 - accuracy: 0.9989 - val_loss: 0.6370 - val_accuracy: 0.9089\n",
            "\n",
            "Epoch 00089: val_accuracy did not improve from 0.91775\n",
            "Epoch 90/95\n",
            "144/144 [==============================] - 49s 340ms/step - loss: 0.0049 - accuracy: 0.9979 - val_loss: 0.5798 - val_accuracy: 0.9128\n",
            "\n",
            "Epoch 00090: val_accuracy did not improve from 0.91775\n",
            "Epoch 91/95\n",
            "144/144 [==============================] - 48s 331ms/step - loss: 0.0017 - accuracy: 0.9992 - val_loss: 0.5843 - val_accuracy: 0.9117\n",
            "\n",
            "Epoch 00091: val_accuracy did not improve from 0.91775\n",
            "Epoch 92/95\n",
            "144/144 [==============================] - 49s 340ms/step - loss: 9.8574e-04 - accuracy: 0.9994 - val_loss: 0.5615 - val_accuracy: 0.9149\n",
            "\n",
            "Epoch 00092: val_accuracy did not improve from 0.91775\n",
            "Epoch 93/95\n",
            "144/144 [==============================] - 48s 332ms/step - loss: 0.0022 - accuracy: 0.9990 - val_loss: 0.5517 - val_accuracy: 0.9125\n",
            "\n",
            "Epoch 00093: val_accuracy did not improve from 0.91775\n",
            "Epoch 94/95\n",
            "144/144 [==============================] - 48s 332ms/step - loss: 0.0011 - accuracy: 0.9994 - val_loss: 0.5615 - val_accuracy: 0.9136\n",
            "\n",
            "Epoch 00094: val_accuracy did not improve from 0.91775\n",
            "Epoch 95/95\n",
            "144/144 [==============================] - 49s 339ms/step - loss: 0.0012 - accuracy: 0.9993 - val_loss: 0.6184 - val_accuracy: 0.9099\n",
            "\n",
            "Epoch 00095: val_accuracy did not improve from 0.91775\n"
          ],
          "name": "stdout"
        }
      ]
    },
    {
      "cell_type": "code",
      "metadata": {
        "id": "M4NVwzDlkyMp",
        "colab": {
          "base_uri": "https://localhost:8080/",
          "height": 520
        },
        "outputId": "85f5bfda-1487-45c1-dd74-ed2b611601b9"
      },
      "source": [
        "model=load_model(\"/content/drive/MyDrive/Model/20.h5\")\n",
        "class_names = ['Accident' ,'Art' ,'Crime', 'Economics' ,'Education' ,'Entertainment',\n",
        " 'Environment' ,'International' ,'Opinion' ,'Politics', 'Science' ,'Sports']\n",
        "predictions = model.predict(X_test)\n",
        "y_pred = np.argmax(predictions, axis=1)\n",
        "report = pd.DataFrame(classification_report(y_true = y_test, y_pred = y_pred, output_dict=True)).transpose()\n",
        "report = report.rename(index={'0': 'Accident','1':'Art','2':'Crime','3':'Economics','4':'Education','5':'Entertainment',\n",
        "                              '6': 'Environment','7':'International','8':'Opinion','9':'Politics','10':'Science','11':'Sports'})\n",
        "report[['precision','recall','f1-score']]=report[['precision','recall','f1-score']].apply(lambda x: round(x*100,2))\n",
        "report"
      ],
      "execution_count": 23,
      "outputs": [
        {
          "output_type": "execute_result",
          "data": {
            "text/html": [
              "<div>\n",
              "<style scoped>\n",
              "    .dataframe tbody tr th:only-of-type {\n",
              "        vertical-align: middle;\n",
              "    }\n",
              "\n",
              "    .dataframe tbody tr th {\n",
              "        vertical-align: top;\n",
              "    }\n",
              "\n",
              "    .dataframe thead th {\n",
              "        text-align: right;\n",
              "    }\n",
              "</style>\n",
              "<table border=\"1\" class=\"dataframe\">\n",
              "  <thead>\n",
              "    <tr style=\"text-align: right;\">\n",
              "      <th></th>\n",
              "      <th>precision</th>\n",
              "      <th>recall</th>\n",
              "      <th>f1-score</th>\n",
              "      <th>support</th>\n",
              "    </tr>\n",
              "  </thead>\n",
              "  <tbody>\n",
              "    <tr>\n",
              "      <th>Accident</th>\n",
              "      <td>91.68</td>\n",
              "      <td>92.67</td>\n",
              "      <td>92.18</td>\n",
              "      <td>464.000000</td>\n",
              "    </tr>\n",
              "    <tr>\n",
              "      <th>Art</th>\n",
              "      <td>87.37</td>\n",
              "      <td>85.04</td>\n",
              "      <td>86.19</td>\n",
              "      <td>488.000000</td>\n",
              "    </tr>\n",
              "    <tr>\n",
              "      <th>Crime</th>\n",
              "      <td>89.71</td>\n",
              "      <td>88.44</td>\n",
              "      <td>89.07</td>\n",
              "      <td>493.000000</td>\n",
              "    </tr>\n",
              "    <tr>\n",
              "      <th>Economics</th>\n",
              "      <td>88.68</td>\n",
              "      <td>93.90</td>\n",
              "      <td>91.22</td>\n",
              "      <td>459.000000</td>\n",
              "    </tr>\n",
              "    <tr>\n",
              "      <th>Education</th>\n",
              "      <td>96.98</td>\n",
              "      <td>95.74</td>\n",
              "      <td>96.36</td>\n",
              "      <td>470.000000</td>\n",
              "    </tr>\n",
              "    <tr>\n",
              "      <th>Entertainment</th>\n",
              "      <td>94.77</td>\n",
              "      <td>94.04</td>\n",
              "      <td>94.40</td>\n",
              "      <td>520.000000</td>\n",
              "    </tr>\n",
              "    <tr>\n",
              "      <th>Environment</th>\n",
              "      <td>91.22</td>\n",
              "      <td>91.61</td>\n",
              "      <td>91.42</td>\n",
              "      <td>465.000000</td>\n",
              "    </tr>\n",
              "    <tr>\n",
              "      <th>International</th>\n",
              "      <td>93.35</td>\n",
              "      <td>91.77</td>\n",
              "      <td>92.55</td>\n",
              "      <td>474.000000</td>\n",
              "    </tr>\n",
              "    <tr>\n",
              "      <th>Opinion</th>\n",
              "      <td>89.63</td>\n",
              "      <td>89.44</td>\n",
              "      <td>89.54</td>\n",
              "      <td>464.000000</td>\n",
              "    </tr>\n",
              "    <tr>\n",
              "      <th>Politics</th>\n",
              "      <td>91.87</td>\n",
              "      <td>94.56</td>\n",
              "      <td>93.20</td>\n",
              "      <td>478.000000</td>\n",
              "    </tr>\n",
              "    <tr>\n",
              "      <th>Science</th>\n",
              "      <td>94.66</td>\n",
              "      <td>92.10</td>\n",
              "      <td>93.36</td>\n",
              "      <td>481.000000</td>\n",
              "    </tr>\n",
              "    <tr>\n",
              "      <th>Sports</th>\n",
              "      <td>94.29</td>\n",
              "      <td>95.04</td>\n",
              "      <td>94.66</td>\n",
              "      <td>504.000000</td>\n",
              "    </tr>\n",
              "    <tr>\n",
              "      <th>accuracy</th>\n",
              "      <td>92.03</td>\n",
              "      <td>92.03</td>\n",
              "      <td>92.03</td>\n",
              "      <td>0.920312</td>\n",
              "    </tr>\n",
              "    <tr>\n",
              "      <th>macro avg</th>\n",
              "      <td>92.02</td>\n",
              "      <td>92.03</td>\n",
              "      <td>92.01</td>\n",
              "      <td>5760.000000</td>\n",
              "    </tr>\n",
              "    <tr>\n",
              "      <th>weighted avg</th>\n",
              "      <td>92.05</td>\n",
              "      <td>92.03</td>\n",
              "      <td>92.03</td>\n",
              "      <td>5760.000000</td>\n",
              "    </tr>\n",
              "  </tbody>\n",
              "</table>\n",
              "</div>"
            ],
            "text/plain": [
              "               precision  recall  f1-score      support\n",
              "Accident           91.68   92.67     92.18   464.000000\n",
              "Art                87.37   85.04     86.19   488.000000\n",
              "Crime              89.71   88.44     89.07   493.000000\n",
              "Economics          88.68   93.90     91.22   459.000000\n",
              "Education          96.98   95.74     96.36   470.000000\n",
              "Entertainment      94.77   94.04     94.40   520.000000\n",
              "Environment        91.22   91.61     91.42   465.000000\n",
              "International      93.35   91.77     92.55   474.000000\n",
              "Opinion            89.63   89.44     89.54   464.000000\n",
              "Politics           91.87   94.56     93.20   478.000000\n",
              "Science            94.66   92.10     93.36   481.000000\n",
              "Sports             94.29   95.04     94.66   504.000000\n",
              "accuracy           92.03   92.03     92.03     0.920312\n",
              "macro avg          92.02   92.03     92.01  5760.000000\n",
              "weighted avg       92.05   92.03     92.03  5760.000000"
            ]
          },
          "metadata": {},
          "execution_count": 23
        }
      ]
    },
    {
      "cell_type": "code",
      "metadata": {
        "id": "IE4o4633L2OD",
        "colab": {
          "base_uri": "https://localhost:8080/"
        },
        "outputId": "5393fa7b-cfb1-46c8-fa6d-3412f99ca475"
      },
      "source": [
        "# evaluate the model\n",
        "_, train_acc = model.evaluate(X_train, y_train, verbose=1)\n",
        "_, test_acc = model.evaluate(X_valid, y_valid, verbose=1)\n",
        "print('Train: %.3f, Test: %.3f' % (train_acc, test_acc))"
      ],
      "execution_count": 24,
      "outputs": [
        {
          "output_type": "stream",
          "text": [
            "576/576 [==============================] - 26s 42ms/step - loss: 9.0812e-04 - accuracy: 0.9993\n",
            "144/144 [==============================] - 6s 43ms/step - loss: 0.5772 - accuracy: 0.9178\n",
            "Train: 0.999, Test: 0.918\n"
          ],
          "name": "stdout"
        }
      ]
    },
    {
      "cell_type": "code",
      "metadata": {
        "id": "rLUfZcyonbSM",
        "colab": {
          "base_uri": "https://localhost:8080/"
        },
        "outputId": "3b7dc2ed-9de6-4421-db86-92471762b695"
      },
      "source": [
        "class_names = ['Accident' ,'Art' ,'Crime', 'Economics' ,'Education' ,'Entertainment',\n",
        " 'Environment' ,'International' ,'Opinion' ,'Politics', 'Science' ,'Sports']\n",
        "print(classification_report(y_test, y_pred, digits=4, target_names=class_names))"
      ],
      "execution_count": 25,
      "outputs": [
        {
          "output_type": "stream",
          "text": [
            "               precision    recall  f1-score   support\n",
            "\n",
            "     Accident     0.9168    0.9267    0.9218       464\n",
            "          Art     0.8737    0.8504    0.8619       488\n",
            "        Crime     0.8971    0.8844    0.8907       493\n",
            "    Economics     0.8868    0.9390    0.9122       459\n",
            "    Education     0.9698    0.9574    0.9636       470\n",
            "Entertainment     0.9477    0.9404    0.9440       520\n",
            "  Environment     0.9122    0.9161    0.9142       465\n",
            "International     0.9335    0.9177    0.9255       474\n",
            "      Opinion     0.8963    0.8944    0.8954       464\n",
            "     Politics     0.9187    0.9456    0.9320       478\n",
            "      Science     0.9466    0.9210    0.9336       481\n",
            "       Sports     0.9429    0.9504    0.9466       504\n",
            "\n",
            "     accuracy                         0.9203      5760\n",
            "    macro avg     0.9202    0.9203    0.9201      5760\n",
            " weighted avg     0.9205    0.9203    0.9203      5760\n",
            "\n"
          ],
          "name": "stdout"
        }
      ]
    },
    {
      "cell_type": "code",
      "metadata": {
        "id": "eR72pvwBL5pA",
        "colab": {
          "base_uri": "https://localhost:8080/"
        },
        "outputId": "c993796f-9277-42bb-f3b9-9b33e79463c6"
      },
      "source": [
        "print(confusion_matrix(y_test, y_pred))\n",
        "\n",
        "print('\\nbert-Accuracy: {0:.2f}%'.format(accuracy_score(y_test, y_pred)*100))"
      ],
      "execution_count": 26,
      "outputs": [
        {
          "output_type": "stream",
          "text": [
            "[[430   2  19   0   0   0  10   0   0   0   1   2]\n",
            " [  1 415   1   0   4  10   7   3  24   1   4  18]\n",
            " [ 23   0 436   4   0   0   5   2   0  23   0   0]\n",
            " [  0   0   3 431   1   1   4   5   2   2   9   1]\n",
            " [  0   4   3   2 450   2   0   0   6   1   2   0]\n",
            " [  0   9   3   3   2 489   0   6   3   1   2   2]\n",
            " [  6   7   3  11   1   1 426   1   5   3   0   1]\n",
            " [  4   0   2  11   0   4   3 435   6   7   2   0]\n",
            " [  1  22   0   9   1   3   2   5 415   2   2   2]\n",
            " [  1   0  16   5   0   0   2   1   1 452   0   0]\n",
            " [  1   6   0  10   3   3   5   6   1   0 443   3]\n",
            " [  2  10   0   0   2   3   3   2   0   0   3 479]]\n",
            "\n",
            "bert-Accuracy: 92.03%\n"
          ],
          "name": "stdout"
        }
      ]
    },
    {
      "cell_type": "code",
      "metadata": {
        "id": "xoH2LODAsGIR",
        "colab": {
          "base_uri": "https://localhost:8080/",
          "height": 590
        },
        "outputId": "71e059e3-13ae-416f-ad9d-10ca3d17adb0"
      },
      "source": [
        "print(history.history.keys())\n",
        "#  \"Accuracy\"\n",
        "plt.plot(history.history['accuracy'])\n",
        "plt.plot(history.history['val_accuracy'])\n",
        "plt.title('model accuracy')\n",
        "plt.ylabel('accuracy')\n",
        "plt.xlabel('epoch')\n",
        "plt.legend(['train', 'validation'], loc='upper left')\n",
        "plt.show()\n",
        "# \"Loss\"\n",
        "plt.plot(history.history['loss'])\n",
        "plt.plot(history.history['val_loss'])\n",
        "plt.title('model loss')\n",
        "plt.ylabel('loss')\n",
        "plt.xlabel('epoch')\n",
        "plt.legend(['train', 'validation'], loc='upper left')\n",
        "plt.show()"
      ],
      "execution_count": 27,
      "outputs": [
        {
          "output_type": "stream",
          "text": [
            "dict_keys(['loss', 'accuracy', 'val_loss', 'val_accuracy'])\n"
          ],
          "name": "stdout"
        },
        {
          "output_type": "display_data",
          "data": {
            "image/png": "[encoded data removed]",
            "text/plain": [
              "<Figure size 432x288 with 1 Axes>"
            ]
          },
          "metadata": {
            "needs_background": "light"
          }
        },
        {
          "output_type": "display_data",
          "data": {
            "image/png": "[encoded data removed]",
            "text/plain": [
              "<Figure size 432x288 with 1 Axes>"
            ]
          },
          "metadata": {
            "needs_background": "light"
          }
        }
      ]
    },
    {
      "cell_type": "code",
      "metadata": {
        "id": "pOaWKVOttDbm",
        "colab": {
          "base_uri": "https://localhost:8080/",
          "height": 576
        },
        "outputId": "8a264f18-43d5-42f0-8b4e-e1e785cd9c7d"
      },
      "source": [
        "from sklearn.metrics import classification_report, confusion_matrix\n",
        "\n",
        "cm = confusion_matrix(y_test, y_pred) \n",
        "\n",
        "class_names = ['Accident' ,'Art' ,'Crime', 'Economics' ,'Education' ,'Entertainment',\n",
        " 'Environment' ,'International' ,'Opinion' ,'Politics', 'Science' ,'Sports']\n",
        "# Transform to df for easier plotting\n",
        "cm_df = pd.DataFrame(cm,\n",
        "                     index = class_names, \n",
        "                     columns = class_names)\n",
        "\n",
        "plt.figure(figsize=(10,8))\n",
        "sns.heatmap(cm_df, annot=True,cmap=\"Blues\", fmt='g')\n",
        "plt.title('bert \\n F1 Score: {0:.2f}%'.format(f1_score(y_test, y_pred , average='macro')*100))\n",
        "plt.ylabel('True label')\n",
        "plt.xlabel('Predicted label')\n",
        "plt.xticks(rotation = 45)\n",
        "plt.yticks(rotation = 45)\n",
        "plt.show()"
      ],
      "execution_count": 28,
      "outputs": [
        {
          "output_type": "display_data",
          "data": {
            "image/png": "[encoded data removed]",
            "text/plain": [
              "<Figure size 720x576 with 2 Axes>"
            ]
          },
          "metadata": {
            "needs_background": "light"
          }
        }
      ]
    }
  ]
}