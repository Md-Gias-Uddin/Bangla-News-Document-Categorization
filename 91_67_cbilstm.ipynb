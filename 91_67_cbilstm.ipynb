{
  "nbformat": 4,
  "nbformat_minor": 0,
  "metadata": {
    "accelerator": "GPU",
    "colab": {
      "name": "91.67%cbilstm.ipynb",
      "provenance": [],
      "collapsed_sections": []
    },
    "kernelspec": {
      "display_name": "Python 3",
      "name": "python3"
    }
  },
  "cells": [
    {
      "cell_type": "code",
      "metadata": {
        "colab": {
          "base_uri": "https://localhost:8080/"
        },
        "id": "7Mhnx-iE2QZ1",
        "outputId": "1b19255b-8617-419b-ef85-55daa3b3071e"
      },
      "source": [
        "!nvidia-smi"
      ],
      "execution_count": 7,
      "outputs": [
        {
          "output_type": "stream",
          "text": [
            "Tue Aug 17 18:30:06 2021       \n",
            "+-----------------------------------------------------------------------------+\n",
            "| NVIDIA-SMI 470.57.02    Driver Version: 460.32.03    CUDA Version: 11.2     |\n",
            "|-------------------------------+----------------------+----------------------+\n",
            "| GPU  Name        Persistence-M| Bus-Id        Disp.A | Volatile Uncorr. ECC |\n",
            "| Fan  Temp  Perf  Pwr:Usage/Cap|         Memory-Usage | GPU-Util  Compute M. |\n",
            "|                               |                      |               MIG M. |\n",
            "|===============================+======================+======================|\n",
            "|   0  Tesla T4            Off  | 00000000:00:04.0 Off |                    0 |\n",
            "| N/A   44C    P8     9W /  70W |      0MiB / 15109MiB |      0%      Default |\n",
            "|                               |                      |                  N/A |\n",
            "+-------------------------------+----------------------+----------------------+\n",
            "                                                                               \n",
            "+-----------------------------------------------------------------------------+\n",
            "| Processes:                                                                  |\n",
            "|  GPU   GI   CI        PID   Type   Process name                  GPU Memory |\n",
            "|        ID   ID                                                   Usage      |\n",
            "|=============================================================================|\n",
            "|  No running processes found                                                 |\n",
            "+-----------------------------------------------------------------------------+\n"
          ],
          "name": "stdout"
        }
      ]
    },
    {
      "cell_type": "code",
      "metadata": {
        "colab": {
          "base_uri": "https://localhost:8080/"
        },
        "id": "Q2ieMsjHp6D0",
        "outputId": "a21540f1-f6e5-4abf-cfb7-312b569e4b86"
      },
      "source": [
        "from google.colab import drive\n",
        "drive.mount('/content/drive')"
      ],
      "execution_count": 8,
      "outputs": [
        {
          "output_type": "stream",
          "text": [
            "Drive already mounted at /content/drive; to attempt to forcibly remount, call drive.mount(\"/content/drive\", force_remount=True).\n"
          ],
          "name": "stdout"
        }
      ]
    },
    {
      "cell_type": "code",
      "metadata": {
        "id": "YsK0caVGuSJi"
      },
      "source": [
        "import pandas as pd\n",
        "import numpy as np\n",
        "import re\n",
        "import os\n",
        "import matplotlib as plt\n",
        "from bs4 import BeautifulSoup\n",
        "import numpy as np\n",
        "import matplotlib.pyplot as plt\n",
        "%matplotlib inline\n",
        "import pandas as pd\n",
        "import seaborn as sns\n",
        "import re,nltk,json, pickle\n",
        "import tensorflow as tf\n",
        "os.environ['TF_CPP_MIN_LOG_LEVEL'] = '3'\n",
        "from bs4 import BeautifulSoup\n",
        "from tensorflow import keras\n",
        "from keras.models import Sequential\n",
        "from tensorflow.keras import regularizers\n",
        "from tensorflow.keras.preprocessing.sequence import pad_sequences\n",
        "from tensorflow.keras.layers import LSTM,GRU,Bidirectional\n",
        "from tensorflow.keras.models import load_model\n",
        "from sklearn.metrics import confusion_matrix\n",
        "from sklearn.metrics import classification_report \n",
        "from sklearn.model_selection import train_test_split\n",
        "from sklearn.metrics import accuracy_score,precision_score,recall_score,f1_score,roc_auc_score\n",
        "from sklearn.preprocessing import LabelEncoder\n",
        "from tensorflow.keras.preprocessing.text import Tokenizer\n",
        "import pandas as pd\n",
        "import numpy as np\n",
        "import re\n",
        "from re import sub\n",
        "import multiprocessing\n",
        "import os\n",
        "from time import time \n",
        "import tensorflow as tf\n",
        "import keras\n",
        "from keras.models import Sequential\n",
        "from keras.layers import LSTM,Dense,Dropout,Activation,Embedding,Flatten,Bidirectional,MaxPooling1D, Conv1D, MaxPooling1D\n",
        "from keras import regularizers\n",
        "from keras.preprocessing.text import Tokenizer\n",
        "from keras.preprocessing.sequence import pad_sequences\n",
        "from keras.utils.np_utils import to_categorical\n",
        "import h5py\n",
        "import csv\n",
        "import seaborn as sns\n",
        "import matplotlib.pyplot as plt\n",
        "from sklearn.model_selection import train_test_split\n",
        "import nltk\n",
        "from nltk.corpus import stopwords"
      ],
      "execution_count": 9,
      "outputs": []
    },
    {
      "cell_type": "markdown",
      "metadata": {
        "id": "eAI_V3n8YFhQ"
      },
      "source": [
        "# **Dataset without stop word**"
      ]
    },
    {
      "cell_type": "code",
      "metadata": {
        "id": "FSSoQiNtd0ms",
        "colab": {
          "base_uri": "https://localhost:8080/"
        },
        "outputId": "bf8f8707-7f35-4de8-82b0-7bcb7f88a533"
      },
      "source": [
        "file=\"/content/drive/MyDrive/stop_news.csv\"\n",
        "dataset=pd.read_csv(file,error_bad_lines=False, engine=\"python\" ) # engine =\"c\" \n",
        "print(f\"There are {len(dataset)} articles in the dataset.\")"
      ],
      "execution_count": 10,
      "outputs": [
        {
          "output_type": "stream",
          "text": [
            "There are 28800 articles in the dataset.\n"
          ],
          "name": "stdout"
        }
      ]
    },
    {
      "cell_type": "markdown",
      "metadata": {
        "id": "4QXEp3ju_2WN"
      },
      "source": [
        "# **Dataset summary**"
      ]
    },
    {
      "cell_type": "markdown",
      "metadata": {
        "id": "HxORuOwI_8PK"
      },
      "source": [
        "# **Label Encoding, Tokenization & Padding**"
      ]
    },
    {
      "cell_type": "code",
      "metadata": {
        "colab": {
          "base_uri": "https://localhost:8080/"
        },
        "id": "Eozpx8EA3J3O",
        "outputId": "7d66cb50-42c9-4a5f-9418-f5d891b72b17"
      },
      "source": [
        "from sklearn.preprocessing import LabelEncoder\n",
        "\n",
        "catlabel = LabelEncoder()\n",
        "label = catlabel.fit_transform(dataset['category'])\n",
        "\n",
        "\n",
        "print(set(label))\n",
        "print(catlabel.classes_)"
      ],
      "execution_count": 11,
      "outputs": [
        {
          "output_type": "stream",
          "text": [
            "{0, 1, 2, 3, 4, 5, 6, 7, 8, 9, 10, 11}\n",
            "['accident' 'art' 'crime' 'economics' 'education' 'entertainment'\n",
            " 'environment' 'international' 'opinion' 'politics' 'science_tech'\n",
            " 'sports']\n"
          ],
          "name": "stdout"
        }
      ]
    },
    {
      "cell_type": "markdown",
      "metadata": {
        "id": "BHMEuW2j5RTo"
      },
      "source": [
        "# **Train & split**"
      ]
    },
    {
      "cell_type": "code",
      "metadata": {
        "id": "sVC4GFTs3U0S"
      },
      "source": [
        "import tensorflow as tf\n",
        "from tensorflow.keras.preprocessing.text import Tokenizer\n",
        "from tensorflow.keras.preprocessing.sequence import pad_sequences\n",
        "tokenizer = Tokenizer(oov_token=\"<OOV>\")\n",
        "tokenizer.fit_on_texts(dataset['news'])"
      ],
      "execution_count": 12,
      "outputs": []
    },
    {
      "cell_type": "code",
      "metadata": {
        "colab": {
          "base_uri": "https://localhost:8080/"
        },
        "id": "JLBrLrpr3b2V",
        "outputId": "476e990a-59fb-4c2a-9d68-0c2c8dd33c0c"
      },
      "source": [
        "len(tokenizer.word_index)\n",
        "vocab_size = len(tokenizer.word_index) + 1\n",
        "vocab_size"
      ],
      "execution_count": 13,
      "outputs": [
        {
          "output_type": "execute_result",
          "data": {
            "text/plain": [
              "297130"
            ]
          },
          "metadata": {
            "tags": []
          },
          "execution_count": 13
        }
      ]
    },
    {
      "cell_type": "code",
      "metadata": {
        "id": "f2KawrM03izT"
      },
      "source": [
        "max_length = 350\n",
        "trunc_type='post'\n",
        "padding_type='post'\n",
        "news = dataset['news']\n",
        "news_sequences = tokenizer.texts_to_sequences(news)\n",
        "news_padded = pad_sequences(news_sequences, maxlen=max_length, padding=padding_type, truncating=trunc_type)"
      ],
      "execution_count": 14,
      "outputs": []
    },
    {
      "cell_type": "markdown",
      "metadata": {
        "id": "gNBWsNtLAFR8"
      },
      "source": [
        "# **Fasttext Word Embedding**"
      ]
    },
    {
      "cell_type": "code",
      "metadata": {
        "id": "_hOryPfH6bGI"
      },
      "source": [
        "from urllib.request import urlopen\n",
        "import gzip\n",
        "file = gzip.open(urlopen('https://dl.fbaipublicfiles.com/fasttext/vectors-crawl/cc.bn.300.vec.gz'))"
      ],
      "execution_count": 15,
      "outputs": []
    },
    {
      "cell_type": "code",
      "metadata": {
        "id": "IsM9dPv46gZX"
      },
      "source": [
        "vocab_and_vectors = {}\n",
        "for line in file:\n",
        "  values = line.split()\n",
        "  word = values[0].decode('utf-8')\n",
        "  vector = np.asarray(values[1:], dtype='float16')\n",
        "  vocab_and_vectors[word] = vector"
      ],
      "execution_count": 16,
      "outputs": []
    },
    {
      "cell_type": "code",
      "metadata": {
        "colab": {
          "base_uri": "https://localhost:8080/"
        },
        "id": "04YkDjjBLcfl",
        "outputId": "d6869f70-32da-449b-d611-fd14fa8b5346"
      },
      "source": [
        "len(vocab_and_vectors)"
      ],
      "execution_count": 17,
      "outputs": [
        {
          "output_type": "execute_result",
          "data": {
            "text/plain": [
              "1468579"
            ]
          },
          "metadata": {
            "tags": []
          },
          "execution_count": 17
        }
      ]
    },
    {
      "cell_type": "code",
      "metadata": {
        "colab": {
          "base_uri": "https://localhost:8080/"
        },
        "id": "kyFS3DP-6l2a",
        "outputId": "a427f0e5-10d0-4fb1-dc6a-7fa44558fb02"
      },
      "source": [
        "max_nb_features = 297131\n",
        "print('preparing embedding matrix...')\n",
        "words_not_found = []\n",
        "nb_words = min(max_nb_features, vocab_size)\n",
        "embedding_matrix = np.zeros((nb_words,300))\n",
        "for word, i in tokenizer.word_index.items():\n",
        "    if i >= nb_words:\n",
        "        continue\n",
        "    embedding_vector = vocab_and_vectors.get(word)\n",
        "    if (embedding_vector is not None) and len(embedding_vector) > 0:\n",
        "        # words not found in embedding index will be all-zeros.\n",
        "        embedding_matrix[i] = embedding_vector\n",
        "    else:\n",
        "        words_not_found.append(word)\n",
        "print('number of null word embeddings: %d' % np.sum(np.sum(embedding_matrix, axis=1) == 0))"
      ],
      "execution_count": 18,
      "outputs": [
        {
          "output_type": "stream",
          "text": [
            "preparing embedding matrix...\n",
            "number of null word embeddings: 123681\n"
          ],
          "name": "stdout"
        }
      ]
    },
    {
      "cell_type": "code",
      "metadata": {
        "colab": {
          "base_uri": "https://localhost:8080/"
        },
        "id": "7gJbkpEFY7F2",
        "outputId": "2f0a9b9c-5469-4a75-a993-b0e9596a4f77"
      },
      "source": [
        "len(embedding_matrix)\n",
        "nb_words"
      ],
      "execution_count": 19,
      "outputs": [
        {
          "output_type": "execute_result",
          "data": {
            "text/plain": [
              "297130"
            ]
          },
          "metadata": {
            "tags": []
          },
          "execution_count": 19
        }
      ]
    },
    {
      "cell_type": "code",
      "metadata": {
        "id": "O7pryb8ezci4"
      },
      "source": [
        "import keras\n",
        "from keras.models import Sequential\n",
        "from keras.layers import LSTM,Dense,Dropout,Activation,Embedding,Flatten,Bidirectional,MaxPooling1D, Conv1D, MaxPooling1D, GlobalMaxPool1D"
      ],
      "execution_count": 20,
      "outputs": []
    },
    {
      "cell_type": "markdown",
      "metadata": {
        "id": "Qd2xk-UyALaR"
      },
      "source": [
        "# **Model**"
      ]
    },
    {
      "cell_type": "code",
      "metadata": {
        "id": "3J-kP5ZLhdpm",
        "colab": {
          "base_uri": "https://localhost:8080/"
        },
        "outputId": "824bdf7b-aa32-4143-aeb9-b1fcd8aeb26b"
      },
      "source": [
        "model= Sequential()\n",
        "model.add(Embedding(nb_words, 300, weights=[embedding_matrix], input_length=max_length))\n",
        "model.add(Conv1D(512, 3, activation= 'elu'))\n",
        "model.add(Bidirectional(LSTM(512, return_sequences=True,dropout = 0.2)))\n",
        "model.add(Bidirectional(LSTM(512, return_sequences=True,dropout = 0.2)))\n",
        "model.add(Dense(128, activation='relu'))\n",
        "model.add(Dense(64, activation='relu'))\n",
        "model.add(Flatten())\n",
        "model.add(Dense(12 , activation='softplus'))\n",
        "\n",
        "model.summary()\n",
        "\n",
        "model.compile(optimizer='adamax',\n",
        "    loss='sparse_categorical_crossentropy',\n",
        "    metrics=['accuracy'])"
      ],
      "execution_count": 21,
      "outputs": [
        {
          "output_type": "stream",
          "text": [
            "Model: \"sequential\"\n",
            "_________________________________________________________________\n",
            "Layer (type)                 Output Shape              Param #   \n",
            "=================================================================\n",
            "embedding (Embedding)        (None, 350, 300)          89139000  \n",
            "_________________________________________________________________\n",
            "conv1d (Conv1D)              (None, 348, 512)          461312    \n",
            "_________________________________________________________________\n",
            "bidirectional (Bidirectional (None, 348, 1024)         4198400   \n",
            "_________________________________________________________________\n",
            "bidirectional_1 (Bidirection (None, 348, 1024)         6295552   \n",
            "_________________________________________________________________\n",
            "dense (Dense)                (None, 348, 128)          131200    \n",
            "_________________________________________________________________\n",
            "dense_1 (Dense)              (None, 348, 64)           8256      \n",
            "_________________________________________________________________\n",
            "flatten (Flatten)            (None, 22272)             0         \n",
            "_________________________________________________________________\n",
            "dense_2 (Dense)              (None, 12)                267276    \n",
            "=================================================================\n",
            "Total params: 100,500,996\n",
            "Trainable params: 100,500,996\n",
            "Non-trainable params: 0\n",
            "_________________________________________________________________\n"
          ],
          "name": "stdout"
        }
      ]
    },
    {
      "cell_type": "code",
      "metadata": {
        "id": "_13bLdcxOoC2"
      },
      "source": [
        "X,X_test,y,y_test = train_test_split(news_padded,label,train_size = 0.8,\n",
        "                                                  test_size = 0.2,random_state =42)\n",
        "X_train,X_valid,y_train,y_valid = train_test_split(X,y,train_size = 0.8,\n",
        "                                                  test_size = 0.2,random_state =42)"
      ],
      "execution_count": 22,
      "outputs": []
    },
    {
      "cell_type": "code",
      "metadata": {
        "colab": {
          "base_uri": "https://localhost:8080/"
        },
        "id": "i2ey8Cgl7PCV",
        "outputId": "9337da26-6302-48aa-8580-4eff2eb1a508"
      },
      "source": [
        "print(X_train.shape)\n",
        "print(y_train.shape)\n",
        "print(X_test.shape)\n",
        "print(y_test.shape)\n",
        "print(X_valid.shape)\n",
        "print(y_valid.shape)\n",
        "\n",
        "X_train = np.asarray(X_train)\n",
        "y_train = np.asarray(y_train)\n",
        "X_valid = np.asarray(X_valid)\n",
        "y_valid = np.asarray(y_valid)\n",
        "X_test = np.asarray(X_test)\n",
        "y_test = np.asarray(y_test)"
      ],
      "execution_count": 23,
      "outputs": [
        {
          "output_type": "stream",
          "text": [
            "(18432, 350)\n",
            "(18432,)\n",
            "(5760, 350)\n",
            "(5760,)\n",
            "(4608, 350)\n",
            "(4608,)\n"
          ],
          "name": "stdout"
        }
      ]
    },
    {
      "cell_type": "code",
      "metadata": {
        "colab": {
          "base_uri": "https://localhost:8080/"
        },
        "id": "RC8ui5zHWOdI",
        "outputId": "c78f7f90-686b-41c5-a03e-a49ec380a3d6"
      },
      "source": [
        "from keras.callbacks import ModelCheckpoint, EarlyStopping\n",
        "filepath=\"/content/drive/MyDrive/Model/w.h5\"\n",
        "es = EarlyStopping(monitor='val_loss', mode='min', verbose=1, patience=200)\n",
        "checkpointer = ModelCheckpoint(filepath, monitor='val_accuracy', verbose=1, save_best_only=True, mode='max')\n",
        "history = model.fit([X_train], batch_size=128, y=y_train, verbose=1, validation_data=(X_valid,y_valid), \n",
        "          shuffle=True, epochs=50, callbacks=[es, checkpointer])"
      ],
      "execution_count": 24,
      "outputs": [
        {
          "output_type": "stream",
          "text": [
            "Epoch 1/50\n",
            "144/144 [==============================] - 183s 1s/step - loss: 0.9091 - accuracy: 0.6909 - val_loss: 0.4658 - val_accuracy: 0.8570\n",
            "\n",
            "Epoch 00001: val_accuracy improved from -inf to 0.85699, saving model to /content/drive/MyDrive/Model/w.h5\n",
            "Epoch 2/50\n",
            "144/144 [==============================] - 147s 1s/step - loss: 0.3244 - accuracy: 0.9008 - val_loss: 0.3558 - val_accuracy: 0.8958\n",
            "\n",
            "Epoch 00002: val_accuracy improved from 0.85699 to 0.89583, saving model to /content/drive/MyDrive/Model/w.h5\n",
            "Epoch 3/50\n",
            "144/144 [==============================] - 147s 1s/step - loss: 0.1870 - accuracy: 0.9410 - val_loss: 0.3256 - val_accuracy: 0.9067\n",
            "\n",
            "Epoch 00003: val_accuracy improved from 0.89583 to 0.90668, saving model to /content/drive/MyDrive/Model/w.h5\n",
            "Epoch 4/50\n",
            "144/144 [==============================] - 155s 1s/step - loss: 0.1158 - accuracy: 0.9618 - val_loss: 0.3745 - val_accuracy: 0.9004\n",
            "\n",
            "Epoch 00004: val_accuracy did not improve from 0.90668\n",
            "Epoch 5/50\n",
            "144/144 [==============================] - 147s 1s/step - loss: 0.0624 - accuracy: 0.9798 - val_loss: 0.4248 - val_accuracy: 0.8997\n",
            "\n",
            "Epoch 00005: val_accuracy did not improve from 0.90668\n",
            "Epoch 6/50\n",
            "144/144 [==============================] - 146s 1s/step - loss: 0.0398 - accuracy: 0.9874 - val_loss: 0.3938 - val_accuracy: 0.9112\n",
            "\n",
            "Epoch 00006: val_accuracy improved from 0.90668 to 0.91124, saving model to /content/drive/MyDrive/Model/w.h5\n",
            "Epoch 7/50\n",
            "144/144 [==============================] - 155s 1s/step - loss: 0.0378 - accuracy: 0.9874 - val_loss: 0.4991 - val_accuracy: 0.8941\n",
            "\n",
            "Epoch 00007: val_accuracy did not improve from 0.91124\n",
            "Epoch 8/50\n",
            "144/144 [==============================] - 155s 1s/step - loss: 0.0218 - accuracy: 0.9932 - val_loss: 0.4826 - val_accuracy: 0.9095\n",
            "\n",
            "Epoch 00008: val_accuracy did not improve from 0.91124\n",
            "Epoch 9/50\n",
            "144/144 [==============================] - 154s 1s/step - loss: 0.0138 - accuracy: 0.9963 - val_loss: 0.4957 - val_accuracy: 0.9041\n",
            "\n",
            "Epoch 00009: val_accuracy did not improve from 0.91124\n",
            "Epoch 10/50\n",
            "144/144 [==============================] - 146s 1s/step - loss: 0.0094 - accuracy: 0.9972 - val_loss: 0.4767 - val_accuracy: 0.9145\n",
            "\n",
            "Epoch 00010: val_accuracy improved from 0.91124 to 0.91450, saving model to /content/drive/MyDrive/Model/w.h5\n",
            "Epoch 11/50\n",
            "144/144 [==============================] - 146s 1s/step - loss: 0.0095 - accuracy: 0.9970 - val_loss: 0.5227 - val_accuracy: 0.9028\n",
            "\n",
            "Epoch 00011: val_accuracy did not improve from 0.91450\n",
            "Epoch 12/50\n",
            "144/144 [==============================] - 154s 1s/step - loss: 0.0131 - accuracy: 0.9954 - val_loss: 0.5742 - val_accuracy: 0.8958\n",
            "\n",
            "Epoch 00012: val_accuracy did not improve from 0.91450\n",
            "Epoch 13/50\n",
            "144/144 [==============================] - 146s 1s/step - loss: 0.0147 - accuracy: 0.9953 - val_loss: 0.5311 - val_accuracy: 0.9045\n",
            "\n",
            "Epoch 00013: val_accuracy did not improve from 0.91450\n",
            "Epoch 14/50\n",
            "144/144 [==============================] - 154s 1s/step - loss: 0.0071 - accuracy: 0.9979 - val_loss: 0.5555 - val_accuracy: 0.9036\n",
            "\n",
            "Epoch 00014: val_accuracy did not improve from 0.91450\n",
            "Epoch 15/50\n",
            "144/144 [==============================] - 154s 1s/step - loss: 0.0081 - accuracy: 0.9977 - val_loss: 0.5910 - val_accuracy: 0.8941\n",
            "\n",
            "Epoch 00015: val_accuracy did not improve from 0.91450\n",
            "Epoch 16/50\n",
            "144/144 [==============================] - 154s 1s/step - loss: 0.0081 - accuracy: 0.9973 - val_loss: 0.5227 - val_accuracy: 0.9084\n",
            "\n",
            "Epoch 00016: val_accuracy did not improve from 0.91450\n",
            "Epoch 17/50\n",
            "144/144 [==============================] - 145s 1s/step - loss: 0.0027 - accuracy: 0.9991 - val_loss: 0.5105 - val_accuracy: 0.9104\n",
            "\n",
            "Epoch 00017: val_accuracy did not improve from 0.91450\n",
            "Epoch 18/50\n",
            "144/144 [==============================] - 153s 1s/step - loss: 0.0026 - accuracy: 0.9990 - val_loss: 0.5792 - val_accuracy: 0.9052\n",
            "\n",
            "Epoch 00018: val_accuracy did not improve from 0.91450\n",
            "Epoch 19/50\n",
            "144/144 [==============================] - 145s 1s/step - loss: 0.0026 - accuracy: 0.9991 - val_loss: 0.5241 - val_accuracy: 0.9099\n",
            "\n",
            "Epoch 00019: val_accuracy did not improve from 0.91450\n",
            "Epoch 20/50\n",
            "144/144 [==============================] - 145s 1s/step - loss: 0.0025 - accuracy: 0.9990 - val_loss: 0.5176 - val_accuracy: 0.9128\n",
            "\n",
            "Epoch 00020: val_accuracy did not improve from 0.91450\n",
            "Epoch 21/50\n",
            "144/144 [==============================] - 144s 1s/step - loss: 0.0015 - accuracy: 0.9992 - val_loss: 0.5546 - val_accuracy: 0.9082\n",
            "\n",
            "Epoch 00021: val_accuracy did not improve from 0.91450\n",
            "Epoch 22/50\n",
            "144/144 [==============================] - 153s 1s/step - loss: 0.0026 - accuracy: 0.9992 - val_loss: 0.5115 - val_accuracy: 0.9156\n",
            "\n",
            "Epoch 00022: val_accuracy improved from 0.91450 to 0.91558, saving model to /content/drive/MyDrive/Model/w.h5\n",
            "Epoch 23/50\n",
            "144/144 [==============================] - 153s 1s/step - loss: 0.0033 - accuracy: 0.9991 - val_loss: 0.5376 - val_accuracy: 0.9056\n",
            "\n",
            "Epoch 00023: val_accuracy did not improve from 0.91558\n",
            "Epoch 24/50\n",
            "144/144 [==============================] - 154s 1s/step - loss: 0.0095 - accuracy: 0.9969 - val_loss: 0.5748 - val_accuracy: 0.9045\n",
            "\n",
            "Epoch 00024: val_accuracy did not improve from 0.91558\n",
            "Epoch 25/50\n",
            "144/144 [==============================] - 145s 1s/step - loss: 0.0071 - accuracy: 0.9973 - val_loss: 0.5056 - val_accuracy: 0.9130\n",
            "\n",
            "Epoch 00025: val_accuracy did not improve from 0.91558\n",
            "Epoch 26/50\n",
            "144/144 [==============================] - 144s 1s/step - loss: 0.0022 - accuracy: 0.9991 - val_loss: 0.5053 - val_accuracy: 0.9158\n",
            "\n",
            "Epoch 00026: val_accuracy improved from 0.91558 to 0.91580, saving model to /content/drive/MyDrive/Model/w.h5\n",
            "Epoch 27/50\n",
            "144/144 [==============================] - 153s 1s/step - loss: 0.0017 - accuracy: 0.9993 - val_loss: 0.5068 - val_accuracy: 0.9182\n",
            "\n",
            "Epoch 00027: val_accuracy improved from 0.91580 to 0.91819, saving model to /content/drive/MyDrive/Model/w.h5\n",
            "Epoch 28/50\n",
            "144/144 [==============================] - 145s 1s/step - loss: 0.0016 - accuracy: 0.9993 - val_loss: 0.5128 - val_accuracy: 0.9162\n",
            "\n",
            "Epoch 00028: val_accuracy did not improve from 0.91819\n",
            "Epoch 29/50\n",
            "144/144 [==============================] - 153s 1s/step - loss: 0.0018 - accuracy: 0.9992 - val_loss: 0.5010 - val_accuracy: 0.9164\n",
            "\n",
            "Epoch 00029: val_accuracy did not improve from 0.91819\n",
            "Epoch 30/50\n",
            "144/144 [==============================] - 145s 1s/step - loss: 0.0016 - accuracy: 0.9992 - val_loss: 0.5061 - val_accuracy: 0.9182\n",
            "\n",
            "Epoch 00030: val_accuracy did not improve from 0.91819\n",
            "Epoch 31/50\n",
            "144/144 [==============================] - 144s 1s/step - loss: 0.0013 - accuracy: 0.9993 - val_loss: 0.5116 - val_accuracy: 0.9162\n",
            "\n",
            "Epoch 00031: val_accuracy did not improve from 0.91819\n",
            "Epoch 32/50\n",
            "144/144 [==============================] - 153s 1s/step - loss: 0.0014 - accuracy: 0.9992 - val_loss: 0.5121 - val_accuracy: 0.9186\n",
            "\n",
            "Epoch 00032: val_accuracy improved from 0.91819 to 0.91862, saving model to /content/drive/MyDrive/Model/w.h5\n",
            "Epoch 33/50\n",
            "144/144 [==============================] - 144s 1s/step - loss: 0.0013 - accuracy: 0.9994 - val_loss: 0.5250 - val_accuracy: 0.9160\n",
            "\n",
            "Epoch 00033: val_accuracy did not improve from 0.91862\n",
            "Epoch 34/50\n",
            "144/144 [==============================] - 153s 1s/step - loss: 0.0014 - accuracy: 0.9992 - val_loss: 0.5143 - val_accuracy: 0.9191\n",
            "\n",
            "Epoch 00034: val_accuracy improved from 0.91862 to 0.91905, saving model to /content/drive/MyDrive/Model/w.h5\n",
            "Epoch 35/50\n",
            "144/144 [==============================] - 144s 1s/step - loss: 0.0014 - accuracy: 0.9993 - val_loss: 0.5410 - val_accuracy: 0.9164\n",
            "\n",
            "Epoch 00035: val_accuracy did not improve from 0.91905\n",
            "Epoch 36/50\n",
            "144/144 [==============================] - 153s 1s/step - loss: 0.0089 - accuracy: 0.9974 - val_loss: 0.5897 - val_accuracy: 0.9058\n",
            "\n",
            "Epoch 00036: val_accuracy did not improve from 0.91905\n",
            "Epoch 37/50\n",
            "144/144 [==============================] - 153s 1s/step - loss: 0.0024 - accuracy: 0.9990 - val_loss: 0.5230 - val_accuracy: 0.9119\n",
            "\n",
            "Epoch 00037: val_accuracy did not improve from 0.91905\n",
            "Epoch 38/50\n",
            "144/144 [==============================] - 153s 1s/step - loss: 0.0014 - accuracy: 0.9992 - val_loss: 0.5190 - val_accuracy: 0.9132\n",
            "\n",
            "Epoch 00038: val_accuracy did not improve from 0.91905\n",
            "Epoch 39/50\n",
            "144/144 [==============================] - 153s 1s/step - loss: 0.0012 - accuracy: 0.9993 - val_loss: 0.5217 - val_accuracy: 0.9136\n",
            "\n",
            "Epoch 00039: val_accuracy did not improve from 0.91905\n",
            "Epoch 40/50\n",
            "144/144 [==============================] - 144s 1s/step - loss: 0.0014 - accuracy: 0.9993 - val_loss: 0.5162 - val_accuracy: 0.9117\n",
            "\n",
            "Epoch 00040: val_accuracy did not improve from 0.91905\n",
            "Epoch 41/50\n",
            "144/144 [==============================] - 152s 1s/step - loss: 0.0012 - accuracy: 0.9992 - val_loss: 0.5387 - val_accuracy: 0.9123\n",
            "\n",
            "Epoch 00041: val_accuracy did not improve from 0.91905\n",
            "Epoch 42/50\n",
            "144/144 [==============================] - 144s 999ms/step - loss: 0.0011 - accuracy: 0.9993 - val_loss: 0.5500 - val_accuracy: 0.9130\n",
            "\n",
            "Epoch 00042: val_accuracy did not improve from 0.91905\n",
            "Epoch 43/50\n",
            "144/144 [==============================] - 144s 997ms/step - loss: 0.0012 - accuracy: 0.9993 - val_loss: 0.5378 - val_accuracy: 0.9130\n",
            "\n",
            "Epoch 00043: val_accuracy did not improve from 0.91905\n",
            "Epoch 44/50\n",
            "144/144 [==============================] - 152s 1s/step - loss: 0.0011 - accuracy: 0.9993 - val_loss: 0.5366 - val_accuracy: 0.9149\n",
            "\n",
            "Epoch 00044: val_accuracy did not improve from 0.91905\n",
            "Epoch 45/50\n",
            "144/144 [==============================] - 144s 999ms/step - loss: 0.0011 - accuracy: 0.9993 - val_loss: 0.5471 - val_accuracy: 0.9158\n",
            "\n",
            "Epoch 00045: val_accuracy did not improve from 0.91905\n",
            "Epoch 46/50\n",
            "144/144 [==============================] - 143s 994ms/step - loss: 0.0010 - accuracy: 0.9994 - val_loss: 0.5491 - val_accuracy: 0.9154\n",
            "\n",
            "Epoch 00046: val_accuracy did not improve from 0.91905\n",
            "Epoch 47/50\n",
            "144/144 [==============================] - 143s 996ms/step - loss: 9.9987e-04 - accuracy: 0.9994 - val_loss: 0.5590 - val_accuracy: 0.9162\n",
            "\n",
            "Epoch 00047: val_accuracy did not improve from 0.91905\n",
            "Epoch 48/50\n",
            "144/144 [==============================] - 152s 1s/step - loss: 0.0011 - accuracy: 0.9993 - val_loss: 0.5657 - val_accuracy: 0.9143\n",
            "\n",
            "Epoch 00048: val_accuracy did not improve from 0.91905\n",
            "Epoch 49/50\n",
            "144/144 [==============================] - 151s 1s/step - loss: 0.0010 - accuracy: 0.9993 - val_loss: 0.5780 - val_accuracy: 0.9141\n",
            "\n",
            "Epoch 00049: val_accuracy did not improve from 0.91905\n",
            "Epoch 50/50\n",
            "144/144 [==============================] - 143s 997ms/step - loss: 0.0040 - accuracy: 0.9990 - val_loss: 0.6349 - val_accuracy: 0.9017\n",
            "\n",
            "Epoch 00050: val_accuracy did not improve from 0.91905\n"
          ],
          "name": "stdout"
        }
      ]
    },
    {
      "cell_type": "code",
      "metadata": {
        "id": "M4NVwzDlkyMp",
        "colab": {
          "base_uri": "https://localhost:8080/",
          "height": 520
        },
        "outputId": "6bee62f9-c8e5-4c10-d9a7-d9cdf01b6452"
      },
      "source": [
        "model=load_model(\"/content/drive/MyDrive/Model/w.h5\")\n",
        "class_names = ['Accident' ,'Art' ,'Crime', 'Economics' ,'Education' ,'Entertainment',\n",
        " 'Environment' ,'International' ,'Opinion' ,'Politics', 'Science' ,'Sports']\n",
        "predictions = model.predict(X_test)\n",
        "y_pred = np.argmax(predictions, axis=1)\n",
        "report = pd.DataFrame(classification_report(y_true = y_test, y_pred = y_pred, output_dict=True)).transpose()\n",
        "report = report.rename(index={'0': 'Accident','1':'Art','2':'Crime','3':'Economics','4':'Education','5':'Entertainment',\n",
        "                              '6': 'Environment','7':'International','8':'Opinion','9':'Politics','10':'Science','11':'Sports'})\n",
        "report[['precision','recall','f1-score']]=report[['precision','recall','f1-score']].apply(lambda x: round(x*100,2))\n",
        "report"
      ],
      "execution_count": 25,
      "outputs": [
        {
          "output_type": "execute_result",
          "data": {
            "text/html": [
              "<div>\n",
              "<style scoped>\n",
              "    .dataframe tbody tr th:only-of-type {\n",
              "        vertical-align: middle;\n",
              "    }\n",
              "\n",
              "    .dataframe tbody tr th {\n",
              "        vertical-align: top;\n",
              "    }\n",
              "\n",
              "    .dataframe thead th {\n",
              "        text-align: right;\n",
              "    }\n",
              "</style>\n",
              "<table border=\"1\" class=\"dataframe\">\n",
              "  <thead>\n",
              "    <tr style=\"text-align: right;\">\n",
              "      <th></th>\n",
              "      <th>precision</th>\n",
              "      <th>recall</th>\n",
              "      <th>f1-score</th>\n",
              "      <th>support</th>\n",
              "    </tr>\n",
              "  </thead>\n",
              "  <tbody>\n",
              "    <tr>\n",
              "      <th>Accident</th>\n",
              "      <td>91.85</td>\n",
              "      <td>92.24</td>\n",
              "      <td>92.04</td>\n",
              "      <td>464.000000</td>\n",
              "    </tr>\n",
              "    <tr>\n",
              "      <th>Art</th>\n",
              "      <td>87.79</td>\n",
              "      <td>84.02</td>\n",
              "      <td>85.86</td>\n",
              "      <td>488.000000</td>\n",
              "    </tr>\n",
              "    <tr>\n",
              "      <th>Crime</th>\n",
              "      <td>86.25</td>\n",
              "      <td>89.05</td>\n",
              "      <td>87.62</td>\n",
              "      <td>493.000000</td>\n",
              "    </tr>\n",
              "    <tr>\n",
              "      <th>Economics</th>\n",
              "      <td>89.35</td>\n",
              "      <td>93.25</td>\n",
              "      <td>91.26</td>\n",
              "      <td>459.000000</td>\n",
              "    </tr>\n",
              "    <tr>\n",
              "      <th>Education</th>\n",
              "      <td>97.39</td>\n",
              "      <td>95.32</td>\n",
              "      <td>96.34</td>\n",
              "      <td>470.000000</td>\n",
              "    </tr>\n",
              "    <tr>\n",
              "      <th>Entertainment</th>\n",
              "      <td>94.46</td>\n",
              "      <td>91.73</td>\n",
              "      <td>93.07</td>\n",
              "      <td>520.000000</td>\n",
              "    </tr>\n",
              "    <tr>\n",
              "      <th>Environment</th>\n",
              "      <td>92.08</td>\n",
              "      <td>87.53</td>\n",
              "      <td>89.75</td>\n",
              "      <td>465.000000</td>\n",
              "    </tr>\n",
              "    <tr>\n",
              "      <th>International</th>\n",
              "      <td>92.90</td>\n",
              "      <td>93.88</td>\n",
              "      <td>93.39</td>\n",
              "      <td>474.000000</td>\n",
              "    </tr>\n",
              "    <tr>\n",
              "      <th>Opinion</th>\n",
              "      <td>86.63</td>\n",
              "      <td>90.73</td>\n",
              "      <td>88.63</td>\n",
              "      <td>464.000000</td>\n",
              "    </tr>\n",
              "    <tr>\n",
              "      <th>Politics</th>\n",
              "      <td>94.66</td>\n",
              "      <td>92.68</td>\n",
              "      <td>93.66</td>\n",
              "      <td>478.000000</td>\n",
              "    </tr>\n",
              "    <tr>\n",
              "      <th>Science</th>\n",
              "      <td>93.57</td>\n",
              "      <td>93.76</td>\n",
              "      <td>93.67</td>\n",
              "      <td>481.000000</td>\n",
              "    </tr>\n",
              "    <tr>\n",
              "      <th>Sports</th>\n",
              "      <td>93.42</td>\n",
              "      <td>95.83</td>\n",
              "      <td>94.61</td>\n",
              "      <td>504.000000</td>\n",
              "    </tr>\n",
              "    <tr>\n",
              "      <th>accuracy</th>\n",
              "      <td>91.67</td>\n",
              "      <td>91.67</td>\n",
              "      <td>91.67</td>\n",
              "      <td>0.916667</td>\n",
              "    </tr>\n",
              "    <tr>\n",
              "      <th>macro avg</th>\n",
              "      <td>91.70</td>\n",
              "      <td>91.67</td>\n",
              "      <td>91.66</td>\n",
              "      <td>5760.000000</td>\n",
              "    </tr>\n",
              "    <tr>\n",
              "      <th>weighted avg</th>\n",
              "      <td>91.71</td>\n",
              "      <td>91.67</td>\n",
              "      <td>91.67</td>\n",
              "      <td>5760.000000</td>\n",
              "    </tr>\n",
              "  </tbody>\n",
              "</table>\n",
              "</div>"
            ],
            "text/plain": [
              "               precision  recall  f1-score      support\n",
              "Accident           91.85   92.24     92.04   464.000000\n",
              "Art                87.79   84.02     85.86   488.000000\n",
              "Crime              86.25   89.05     87.62   493.000000\n",
              "Economics          89.35   93.25     91.26   459.000000\n",
              "Education          97.39   95.32     96.34   470.000000\n",
              "Entertainment      94.46   91.73     93.07   520.000000\n",
              "Environment        92.08   87.53     89.75   465.000000\n",
              "International      92.90   93.88     93.39   474.000000\n",
              "Opinion            86.63   90.73     88.63   464.000000\n",
              "Politics           94.66   92.68     93.66   478.000000\n",
              "Science            93.57   93.76     93.67   481.000000\n",
              "Sports             93.42   95.83     94.61   504.000000\n",
              "accuracy           91.67   91.67     91.67     0.916667\n",
              "macro avg          91.70   91.67     91.66  5760.000000\n",
              "weighted avg       91.71   91.67     91.67  5760.000000"
            ]
          },
          "metadata": {
            "tags": []
          },
          "execution_count": 25
        }
      ]
    },
    {
      "cell_type": "code",
      "metadata": {
        "id": "dCeEFEDiHq5P",
        "colab": {
          "base_uri": "https://localhost:8080/"
        },
        "outputId": "837003ae-434f-4bfd-bb4a-288faa5c1ea9"
      },
      "source": [
        "# evaluate the model\n",
        "_, train_acc = model.evaluate(X_train, y_train, verbose=1)\n",
        "_, test_acc = model.evaluate(X_test, y_test, verbose=1)\n",
        "print('Train: %.3f, Test: %.3f' % (train_acc, test_acc))"
      ],
      "execution_count": 26,
      "outputs": [
        {
          "output_type": "stream",
          "text": [
            "576/576 [==============================] - 66s 113ms/step - loss: 0.0012 - accuracy: 0.9993\n",
            "180/180 [==============================] - 20s 112ms/step - loss: 0.5439 - accuracy: 0.9167\n",
            "Train: 0.999, Test: 0.917\n"
          ],
          "name": "stdout"
        }
      ]
    },
    {
      "cell_type": "code",
      "metadata": {
        "colab": {
          "base_uri": "https://localhost:8080/"
        },
        "id": "rLUfZcyonbSM",
        "outputId": "9f05f434-3188-427d-e3ed-ed5dabf2626f"
      },
      "source": [
        "class_names = ['Accident' ,'Art' ,'Crime', 'Economics' ,'Education' ,'Entertainment',\n",
        " 'Environment' ,'International' ,'Opinion' ,'Politics', 'Science' ,'Sports']\n",
        "print(classification_report(y_test, y_pred, digits=4, target_names=class_names))"
      ],
      "execution_count": 27,
      "outputs": [
        {
          "output_type": "stream",
          "text": [
            "               precision    recall  f1-score   support\n",
            "\n",
            "     Accident     0.9185    0.9224    0.9204       464\n",
            "          Art     0.8779    0.8402    0.8586       488\n",
            "        Crime     0.8625    0.8905    0.8762       493\n",
            "    Economics     0.8935    0.9325    0.9126       459\n",
            "    Education     0.9739    0.9532    0.9634       470\n",
            "Entertainment     0.9446    0.9173    0.9307       520\n",
            "  Environment     0.9208    0.8753    0.8975       465\n",
            "International     0.9290    0.9388    0.9339       474\n",
            "      Opinion     0.8663    0.9073    0.8863       464\n",
            "     Politics     0.9466    0.9268    0.9366       478\n",
            "      Science     0.9357    0.9376    0.9367       481\n",
            "       Sports     0.9342    0.9583    0.9461       504\n",
            "\n",
            "     accuracy                         0.9167      5760\n",
            "    macro avg     0.9170    0.9167    0.9166      5760\n",
            " weighted avg     0.9171    0.9167    0.9167      5760\n",
            "\n"
          ],
          "name": "stdout"
        }
      ]
    },
    {
      "cell_type": "code",
      "metadata": {
        "colab": {
          "base_uri": "https://localhost:8080/"
        },
        "id": "JBYW-S4Zn9Y3",
        "outputId": "2a3703c5-8ad0-415d-cae7-d740a3a0aab1"
      },
      "source": [
        "print(confusion_matrix(y_test, y_pred))\n",
        "\n",
        "print('\\nbert-Accuracy: {0:.2f}%'.format(accuracy_score(y_test, y_pred)*100))"
      ],
      "execution_count": 28,
      "outputs": [
        {
          "output_type": "stream",
          "text": [
            "[[428   3  19   2   0   0   6   1   1   0   1   3]\n",
            " [  2 410   0   0   4  13   2   4  29   1   5  18]\n",
            " [ 18   1 439   6   1   0   4   3   4  16   1   0]\n",
            " [  2   0   6 428   0   3   4   3   5   0   8   0]\n",
            " [  0   3   5   2 448   2   0   0   5   1   4   0]\n",
            " [  0  11   2   5   2 477   0   9   3   2   1   8]\n",
            " [  9   9  14  12   0   0 407   1   7   3   2   1]\n",
            " [  2   0   3   6   0   4   4 445   4   2   4   0]\n",
            " [  1  16   0   7   2   4   4   4 421   0   3   2]\n",
            " [  1   0  21   3   1   0   2   2   5 443   0   0]\n",
            " [  0   4   0   8   2   1   5   6   2   0 451   2]\n",
            " [  3  10   0   0   0   1   4   1   0   0   2 483]]\n",
            "\n",
            "bert-Accuracy: 91.67%\n"
          ],
          "name": "stdout"
        }
      ]
    },
    {
      "cell_type": "code",
      "metadata": {
        "colab": {
          "base_uri": "https://localhost:8080/",
          "height": 590
        },
        "id": "xoH2LODAsGIR",
        "outputId": "4ea2b856-a5b4-4f70-8cef-e5aaa7a9d17a"
      },
      "source": [
        "print(history.history.keys())\n",
        "#  \"Accuracy\"\n",
        "plt.plot(history.history['accuracy'])\n",
        "plt.plot(history.history['val_accuracy'])\n",
        "plt.title('model accuracy')\n",
        "plt.ylabel('accuracy')\n",
        "plt.xlabel('epoch')\n",
        "plt.legend(['train', 'validation'], loc='upper left')\n",
        "plt.show()\n",
        "# \"Loss\"\n",
        "plt.plot(history.history['loss'])\n",
        "plt.plot(history.history['val_loss'])\n",
        "plt.title('model loss')\n",
        "plt.ylabel('loss')\n",
        "plt.xlabel('epoch')\n",
        "plt.legend(['train', 'validation'], loc='upper left')\n",
        "plt.show()"
      ],
      "execution_count": 29,
      "outputs": [
        {
          "output_type": "stream",
          "text": [
            "dict_keys(['loss', 'accuracy', 'val_loss', 'val_accuracy'])\n"
          ],
          "name": "stdout"
        },
        {
          "output_type": "display_data",
          "data": {
            "image/png": "[encoded data removed]",
            "text/plain": [
              "<Figure size 432x288 with 1 Axes>"
            ]
          },
          "metadata": {
            "tags": [],
            "needs_background": "light"
          }
        },
        {
          "output_type": "display_data",
          "data": {
            "image/png": "[encoded data removed]",
            "text/plain": [
              "<Figure size 432x288 with 1 Axes>"
            ]
          },
          "metadata": {
            "tags": [],
            "needs_background": "light"
          }
        }
      ]
    },
    {
      "cell_type": "code",
      "metadata": {
        "colab": {
          "base_uri": "https://localhost:8080/",
          "height": 576
        },
        "id": "pOaWKVOttDbm",
        "outputId": "105567cb-995d-4368-d030-13ee6ad5fee6"
      },
      "source": [
        "from sklearn.metrics import classification_report, confusion_matrix\n",
        "\n",
        "cm = confusion_matrix(y_test, y_pred) \n",
        "\n",
        "class_names = ['Accident' ,'Art' ,'Crime', 'Economics' ,'Education' ,'Entertainment',\n",
        " 'Environment' ,'International' ,'Opinion' ,'Politics', 'Science' ,'Sports']\n",
        "# Transform to df for easier plotting\n",
        "cm_df = pd.DataFrame(cm,\n",
        "                     index = class_names, \n",
        "                     columns = class_names)\n",
        "\n",
        "plt.figure(figsize=(10,8))\n",
        "sns.heatmap(cm_df, annot=True,cmap=\"Blues\", fmt='g')\n",
        "plt.title('bert \\n F1 Score: {0:.2f}%'.format(f1_score(y_test, y_pred , average='macro')*100))\n",
        "plt.ylabel('True label')\n",
        "plt.xlabel('Predicted label')\n",
        "plt.xticks(rotation = 45)\n",
        "plt.yticks(rotation = 45)\n",
        "plt.show()"
      ],
      "execution_count": 30,
      "outputs": [
        {
          "output_type": "display_data",
          "data": {
            "image/png": "[encoded data removed]",
            "text/plain": [
              "<Figure size 720x576 with 2 Axes>"
            ]
          },
          "metadata": {
            "tags": [],
            "needs_background": "light"
          }
        }
      ]
    }
  ]
}